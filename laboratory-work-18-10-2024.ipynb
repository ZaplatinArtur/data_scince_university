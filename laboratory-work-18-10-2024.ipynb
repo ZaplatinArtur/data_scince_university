{
 "cells": [
  {
   "cell_type": "code",
   "execution_count": 1,
   "id": "d2af185e",
   "metadata": {
    "_cell_guid": "b1076dfc-b9ad-4769-8c92-a6c4dae69d19",
    "_uuid": "8f2839f25d086af736a60e9eeb907d3b93b6e0e5",
    "execution": {
     "iopub.execute_input": "2024-10-26T11:13:04.952801Z",
     "iopub.status.busy": "2024-10-26T11:13:04.952395Z",
     "iopub.status.idle": "2024-10-26T11:13:05.748517Z",
     "shell.execute_reply": "2024-10-26T11:13:05.747343Z"
    },
    "papermill": {
     "duration": 0.809827,
     "end_time": "2024-10-26T11:13:05.751482",
     "exception": false,
     "start_time": "2024-10-26T11:13:04.941655",
     "status": "completed"
    },
    "tags": []
   },
   "outputs": [
    {
     "name": "stdout",
     "output_type": "stream",
     "text": [
      "/kaggle/input/titanic-laba/titanic.csv\n"
     ]
    }
   ],
   "source": [
    "# This Python 3 environment comes with many helpful analytics libraries installed\n",
    "# It is defined by the kaggle/python Docker image: https://github.com/kaggle/docker-python\n",
    "# For example, here's several helpful packages to load\n",
    "\n",
    "import numpy as np # linear algebra\n",
    "import pandas as pd # data processing, CSV file I/O (e.g. pd.read_csv)\n",
    "\n",
    "# Input data files are available in the read-only \"../input/\" directory\n",
    "# For example, running this (by clicking run or pressing Shift+Enter) will list all files under the input directory\n",
    "\n",
    "import os\n",
    "for dirname, _, filenames in os.walk('/kaggle/input'):\n",
    "    for filename in filenames:\n",
    "        print(os.path.join(dirname, filename))\n",
    "\n",
    "        \n",
    "\n",
    "# You can write up to 20GB to the current directory (/kaggle/working/) that gets preserved as output when you create a version using \"Save & Run All\" \n",
    "# You can also write temporary files to /kaggle/temp/, but they won't be saved outside of the current session"
   ]
  },
  {
   "cell_type": "code",
   "execution_count": 2,
   "id": "8a1d8d2f",
   "metadata": {
    "execution": {
     "iopub.execute_input": "2024-10-26T11:13:05.770948Z",
     "iopub.status.busy": "2024-10-26T11:13:05.769903Z",
     "iopub.status.idle": "2024-10-26T11:13:05.813403Z",
     "shell.execute_reply": "2024-10-26T11:13:05.812453Z"
    },
    "papermill": {
     "duration": 0.055173,
     "end_time": "2024-10-26T11:13:05.815671",
     "exception": false,
     "start_time": "2024-10-26T11:13:05.760498",
     "status": "completed"
    },
    "tags": []
   },
   "outputs": [
    {
     "data": {
      "text/html": [
       "<div>\n",
       "<style scoped>\n",
       "    .dataframe tbody tr th:only-of-type {\n",
       "        vertical-align: middle;\n",
       "    }\n",
       "\n",
       "    .dataframe tbody tr th {\n",
       "        vertical-align: top;\n",
       "    }\n",
       "\n",
       "    .dataframe thead th {\n",
       "        text-align: right;\n",
       "    }\n",
       "</style>\n",
       "<table border=\"1\" class=\"dataframe\">\n",
       "  <thead>\n",
       "    <tr style=\"text-align: right;\">\n",
       "      <th></th>\n",
       "      <th>PassengerId</th>\n",
       "      <th>Survived</th>\n",
       "      <th>Pclass</th>\n",
       "      <th>Name</th>\n",
       "      <th>Sex</th>\n",
       "      <th>Age</th>\n",
       "      <th>SibSp</th>\n",
       "      <th>Parch</th>\n",
       "      <th>Ticket</th>\n",
       "      <th>Fare</th>\n",
       "      <th>Cabin</th>\n",
       "      <th>Embarked</th>\n",
       "    </tr>\n",
       "  </thead>\n",
       "  <tbody>\n",
       "    <tr>\n",
       "      <th>0</th>\n",
       "      <td>1</td>\n",
       "      <td>0</td>\n",
       "      <td>3</td>\n",
       "      <td>Braund, Mr. Owen Harris</td>\n",
       "      <td>male</td>\n",
       "      <td>22.0</td>\n",
       "      <td>1</td>\n",
       "      <td>0</td>\n",
       "      <td>A/5 21171</td>\n",
       "      <td>7.2500</td>\n",
       "      <td>NaN</td>\n",
       "      <td>S</td>\n",
       "    </tr>\n",
       "    <tr>\n",
       "      <th>1</th>\n",
       "      <td>2</td>\n",
       "      <td>1</td>\n",
       "      <td>1</td>\n",
       "      <td>Cumings, Mrs. John Bradley (Florence Briggs Th...</td>\n",
       "      <td>female</td>\n",
       "      <td>38.0</td>\n",
       "      <td>1</td>\n",
       "      <td>0</td>\n",
       "      <td>PC 17599</td>\n",
       "      <td>71.2833</td>\n",
       "      <td>C85</td>\n",
       "      <td>C</td>\n",
       "    </tr>\n",
       "    <tr>\n",
       "      <th>2</th>\n",
       "      <td>3</td>\n",
       "      <td>1</td>\n",
       "      <td>3</td>\n",
       "      <td>Heikkinen, Miss. Laina</td>\n",
       "      <td>female</td>\n",
       "      <td>26.0</td>\n",
       "      <td>0</td>\n",
       "      <td>0</td>\n",
       "      <td>STON/O2. 3101282</td>\n",
       "      <td>7.9250</td>\n",
       "      <td>NaN</td>\n",
       "      <td>S</td>\n",
       "    </tr>\n",
       "    <tr>\n",
       "      <th>3</th>\n",
       "      <td>4</td>\n",
       "      <td>1</td>\n",
       "      <td>1</td>\n",
       "      <td>Futrelle, Mrs. Jacques Heath (Lily May Peel)</td>\n",
       "      <td>female</td>\n",
       "      <td>35.0</td>\n",
       "      <td>1</td>\n",
       "      <td>0</td>\n",
       "      <td>113803</td>\n",
       "      <td>53.1000</td>\n",
       "      <td>C123</td>\n",
       "      <td>S</td>\n",
       "    </tr>\n",
       "    <tr>\n",
       "      <th>4</th>\n",
       "      <td>5</td>\n",
       "      <td>0</td>\n",
       "      <td>3</td>\n",
       "      <td>Allen, Mr. William Henry</td>\n",
       "      <td>male</td>\n",
       "      <td>35.0</td>\n",
       "      <td>0</td>\n",
       "      <td>0</td>\n",
       "      <td>373450</td>\n",
       "      <td>8.0500</td>\n",
       "      <td>NaN</td>\n",
       "      <td>S</td>\n",
       "    </tr>\n",
       "    <tr>\n",
       "      <th>...</th>\n",
       "      <td>...</td>\n",
       "      <td>...</td>\n",
       "      <td>...</td>\n",
       "      <td>...</td>\n",
       "      <td>...</td>\n",
       "      <td>...</td>\n",
       "      <td>...</td>\n",
       "      <td>...</td>\n",
       "      <td>...</td>\n",
       "      <td>...</td>\n",
       "      <td>...</td>\n",
       "      <td>...</td>\n",
       "    </tr>\n",
       "    <tr>\n",
       "      <th>886</th>\n",
       "      <td>887</td>\n",
       "      <td>0</td>\n",
       "      <td>2</td>\n",
       "      <td>Montvila, Rev. Juozas</td>\n",
       "      <td>male</td>\n",
       "      <td>27.0</td>\n",
       "      <td>0</td>\n",
       "      <td>0</td>\n",
       "      <td>211536</td>\n",
       "      <td>13.0000</td>\n",
       "      <td>NaN</td>\n",
       "      <td>S</td>\n",
       "    </tr>\n",
       "    <tr>\n",
       "      <th>887</th>\n",
       "      <td>888</td>\n",
       "      <td>1</td>\n",
       "      <td>1</td>\n",
       "      <td>Graham, Miss. Margaret Edith</td>\n",
       "      <td>female</td>\n",
       "      <td>19.0</td>\n",
       "      <td>0</td>\n",
       "      <td>0</td>\n",
       "      <td>112053</td>\n",
       "      <td>30.0000</td>\n",
       "      <td>B42</td>\n",
       "      <td>S</td>\n",
       "    </tr>\n",
       "    <tr>\n",
       "      <th>888</th>\n",
       "      <td>889</td>\n",
       "      <td>0</td>\n",
       "      <td>3</td>\n",
       "      <td>Johnston, Miss. Catherine Helen \"Carrie\"</td>\n",
       "      <td>female</td>\n",
       "      <td>NaN</td>\n",
       "      <td>1</td>\n",
       "      <td>2</td>\n",
       "      <td>W./C. 6607</td>\n",
       "      <td>23.4500</td>\n",
       "      <td>NaN</td>\n",
       "      <td>S</td>\n",
       "    </tr>\n",
       "    <tr>\n",
       "      <th>889</th>\n",
       "      <td>890</td>\n",
       "      <td>1</td>\n",
       "      <td>1</td>\n",
       "      <td>Behr, Mr. Karl Howell</td>\n",
       "      <td>male</td>\n",
       "      <td>26.0</td>\n",
       "      <td>0</td>\n",
       "      <td>0</td>\n",
       "      <td>111369</td>\n",
       "      <td>30.0000</td>\n",
       "      <td>C148</td>\n",
       "      <td>C</td>\n",
       "    </tr>\n",
       "    <tr>\n",
       "      <th>890</th>\n",
       "      <td>891</td>\n",
       "      <td>0</td>\n",
       "      <td>3</td>\n",
       "      <td>Dooley, Mr. Patrick</td>\n",
       "      <td>male</td>\n",
       "      <td>32.0</td>\n",
       "      <td>0</td>\n",
       "      <td>0</td>\n",
       "      <td>370376</td>\n",
       "      <td>7.7500</td>\n",
       "      <td>NaN</td>\n",
       "      <td>Q</td>\n",
       "    </tr>\n",
       "  </tbody>\n",
       "</table>\n",
       "<p>891 rows × 12 columns</p>\n",
       "</div>"
      ],
      "text/plain": [
       "     PassengerId  Survived  Pclass  \\\n",
       "0              1         0       3   \n",
       "1              2         1       1   \n",
       "2              3         1       3   \n",
       "3              4         1       1   \n",
       "4              5         0       3   \n",
       "..           ...       ...     ...   \n",
       "886          887         0       2   \n",
       "887          888         1       1   \n",
       "888          889         0       3   \n",
       "889          890         1       1   \n",
       "890          891         0       3   \n",
       "\n",
       "                                                  Name     Sex   Age  SibSp  \\\n",
       "0                              Braund, Mr. Owen Harris    male  22.0      1   \n",
       "1    Cumings, Mrs. John Bradley (Florence Briggs Th...  female  38.0      1   \n",
       "2                               Heikkinen, Miss. Laina  female  26.0      0   \n",
       "3         Futrelle, Mrs. Jacques Heath (Lily May Peel)  female  35.0      1   \n",
       "4                             Allen, Mr. William Henry    male  35.0      0   \n",
       "..                                                 ...     ...   ...    ...   \n",
       "886                              Montvila, Rev. Juozas    male  27.0      0   \n",
       "887                       Graham, Miss. Margaret Edith  female  19.0      0   \n",
       "888           Johnston, Miss. Catherine Helen \"Carrie\"  female   NaN      1   \n",
       "889                              Behr, Mr. Karl Howell    male  26.0      0   \n",
       "890                                Dooley, Mr. Patrick    male  32.0      0   \n",
       "\n",
       "     Parch            Ticket     Fare Cabin Embarked  \n",
       "0        0         A/5 21171   7.2500   NaN        S  \n",
       "1        0          PC 17599  71.2833   C85        C  \n",
       "2        0  STON/O2. 3101282   7.9250   NaN        S  \n",
       "3        0            113803  53.1000  C123        S  \n",
       "4        0            373450   8.0500   NaN        S  \n",
       "..     ...               ...      ...   ...      ...  \n",
       "886      0            211536  13.0000   NaN        S  \n",
       "887      0            112053  30.0000   B42        S  \n",
       "888      2        W./C. 6607  23.4500   NaN        S  \n",
       "889      0            111369  30.0000  C148        C  \n",
       "890      0            370376   7.7500   NaN        Q  \n",
       "\n",
       "[891 rows x 12 columns]"
      ]
     },
     "execution_count": 2,
     "metadata": {},
     "output_type": "execute_result"
    }
   ],
   "source": [
    "df  =pd.read_csv('/kaggle/input/titanic-laba/titanic.csv')\n",
    "df"
   ]
  },
  {
   "cell_type": "markdown",
   "id": "fe694667",
   "metadata": {
    "papermill": {
     "duration": 0.008206,
     "end_time": "2024-10-26T11:13:05.832724",
     "exception": false,
     "start_time": "2024-10-26T11:13:05.824518",
     "status": "completed"
    },
    "tags": []
   },
   "source": [
    "изучим как выживаемость зависит от возраста"
   ]
  },
  {
   "cell_type": "code",
   "execution_count": 3,
   "id": "41b96849",
   "metadata": {
    "execution": {
     "iopub.execute_input": "2024-10-26T11:13:05.852493Z",
     "iopub.status.busy": "2024-10-26T11:13:05.852101Z",
     "iopub.status.idle": "2024-10-26T11:13:06.135182Z",
     "shell.execute_reply": "2024-10-26T11:13:06.134103Z"
    },
    "papermill": {
     "duration": 0.295161,
     "end_time": "2024-10-26T11:13:06.137410",
     "exception": false,
     "start_time": "2024-10-26T11:13:05.842249",
     "status": "completed"
    },
    "tags": []
   },
   "outputs": [
    {
     "data": {
      "image/png": "[encoded data removed]",
      "text/plain": [
       "<Figure size 640x480 with 1 Axes>"
      ]
     },
     "metadata": {},
     "output_type": "display_data"
    }
   ],
   "source": [
    "import matplotlib.pyplot as plt\n",
    "plt.hist(df[(df[\"Survived\"]==1)][\"Age\"],bins = 35)\n",
    "plt.show()"
   ]
  },
  {
   "cell_type": "markdown",
   "id": "d8e5cc69",
   "metadata": {
    "papermill": {
     "duration": 0.00829,
     "end_time": "2024-10-26T11:13:06.154490",
     "exception": false,
     "start_time": "2024-10-26T11:13:06.146200",
     "status": "completed"
    },
    "tags": []
   },
   "source": [
    "как видим этот признак имеет значение,чаще всего выживали люди возрастом от 0-10 и от 20-35"
   ]
  },
  {
   "cell_type": "code",
   "execution_count": 4,
   "id": "e0639cd3",
   "metadata": {
    "execution": {
     "iopub.execute_input": "2024-10-26T11:13:06.173274Z",
     "iopub.status.busy": "2024-10-26T11:13:06.172859Z",
     "iopub.status.idle": "2024-10-26T11:13:06.181291Z",
     "shell.execute_reply": "2024-10-26T11:13:06.180328Z"
    },
    "papermill": {
     "duration": 0.0201,
     "end_time": "2024-10-26T11:13:06.183244",
     "exception": false,
     "start_time": "2024-10-26T11:13:06.163144",
     "status": "completed"
    },
    "tags": []
   },
   "outputs": [
    {
     "data": {
      "text/plain": [
       "0                                Braund, Mr. Owen Harris\n",
       "1      Cumings, Mrs. John Bradley (Florence Briggs Th...\n",
       "2                                 Heikkinen, Miss. Laina\n",
       "3           Futrelle, Mrs. Jacques Heath (Lily May Peel)\n",
       "4                               Allen, Mr. William Henry\n",
       "                             ...                        \n",
       "886                                Montvila, Rev. Juozas\n",
       "887                         Graham, Miss. Margaret Edith\n",
       "888             Johnston, Miss. Catherine Helen \"Carrie\"\n",
       "889                                Behr, Mr. Karl Howell\n",
       "890                                  Dooley, Mr. Patrick\n",
       "Name: Name, Length: 891, dtype: object"
      ]
     },
     "execution_count": 4,
     "metadata": {},
     "output_type": "execute_result"
    }
   ],
   "source": [
    "df[\"Name\"]"
   ]
  },
  {
   "cell_type": "markdown",
   "id": "4ea7be58",
   "metadata": {
    "papermill": {
     "duration": 0.008412,
     "end_time": "2024-10-26T11:13:06.200453",
     "exception": false,
     "start_time": "2024-10-26T11:13:06.192041",
     "status": "completed"
    },
    "tags": []
   },
   "source": [
    "в колонке \"Name\" мы видим ,что перед именнами существуют метки о женидьбе женщины,возможно это как-то влияло на выживаемость"
   ]
  },
  {
   "cell_type": "markdown",
   "id": "a412a5c7",
   "metadata": {
    "papermill": {
     "duration": 0.008343,
     "end_time": "2024-10-26T11:13:06.217537",
     "exception": false,
     "start_time": "2024-10-26T11:13:06.209194",
     "status": "completed"
    },
    "tags": []
   },
   "source": [
    "Создадим функцию ,которая добавит метку женидьбы в отдельную колонку"
   ]
  },
  {
   "cell_type": "code",
   "execution_count": 5,
   "id": "ed4c6d66",
   "metadata": {
    "execution": {
     "iopub.execute_input": "2024-10-26T11:13:06.236940Z",
     "iopub.status.busy": "2024-10-26T11:13:06.236065Z",
     "iopub.status.idle": "2024-10-26T11:13:06.242872Z",
     "shell.execute_reply": "2024-10-26T11:13:06.241925Z"
    },
    "papermill": {
     "duration": 0.01852,
     "end_time": "2024-10-26T11:13:06.244834",
     "exception": false,
     "start_time": "2024-10-26T11:13:06.226314",
     "status": "completed"
    },
    "tags": []
   },
   "outputs": [],
   "source": [
    "def a(name):\n",
    "    if ('Mrs' in name ):\n",
    "        return 1\n",
    "    else:\n",
    "        return 0\n",
    "df['married'] = df['Name'].apply(a)\n",
    "\n",
    "                              "
   ]
  },
  {
   "cell_type": "markdown",
   "id": "1d9e8557",
   "metadata": {
    "papermill": {
     "duration": 0.008483,
     "end_time": "2024-10-26T11:13:06.262127",
     "exception": false,
     "start_time": "2024-10-26T11:13:06.253644",
     "status": "completed"
    },
    "tags": []
   },
   "source": [
    "Рассмотрим долю выживаемости среди женатых и не женатых женщин"
   ]
  },
  {
   "cell_type": "code",
   "execution_count": 6,
   "id": "1ae758ae",
   "metadata": {
    "execution": {
     "iopub.execute_input": "2024-10-26T11:13:06.281145Z",
     "iopub.status.busy": "2024-10-26T11:13:06.280730Z",
     "iopub.status.idle": "2024-10-26T11:13:08.016506Z",
     "shell.execute_reply": "2024-10-26T11:13:08.015484Z"
    },
    "papermill": {
     "duration": 1.74781,
     "end_time": "2024-10-26T11:13:08.018691",
     "exception": false,
     "start_time": "2024-10-26T11:13:06.270881",
     "status": "completed"
    },
    "tags": []
   },
   "outputs": [
    {
     "data": {
      "image/png": "[encoded data removed]",
      "text/plain": [
       "<Figure size 640x480 with 1 Axes>"
      ]
     },
     "metadata": {},
     "output_type": "display_data"
    }
   ],
   "source": [
    "import seaborn as sns\n",
    "\n",
    "graf = sns.barplot(df[df[\"Sex\"]=='female'],x = \"married\",y = \"Survived\")"
   ]
  },
  {
   "cell_type": "markdown",
   "id": "1060e581",
   "metadata": {
    "papermill": {
     "duration": 0.008737,
     "end_time": "2024-10-26T11:13:08.036604",
     "exception": false,
     "start_time": "2024-10-26T11:13:08.027867",
     "status": "completed"
    },
    "tags": []
   },
   "source": [
    "Как видим ,доля выживших среди женатых чуть выше"
   ]
  },
  {
   "cell_type": "markdown",
   "id": "0e7d1077",
   "metadata": {
    "papermill": {
     "duration": 0.008681,
     "end_time": "2024-10-26T11:13:08.054501",
     "exception": false,
     "start_time": "2024-10-26T11:13:08.045820",
     "status": "completed"
    },
    "tags": []
   },
   "source": [
    "Рассотрим долю выживаемости среди женщин и мужчин"
   ]
  },
  {
   "cell_type": "code",
   "execution_count": 7,
   "id": "f1aeb32d",
   "metadata": {
    "execution": {
     "iopub.execute_input": "2024-10-26T11:13:08.074963Z",
     "iopub.status.busy": "2024-10-26T11:13:08.073881Z",
     "iopub.status.idle": "2024-10-26T11:13:08.334448Z",
     "shell.execute_reply": "2024-10-26T11:13:08.333333Z"
    },
    "papermill": {
     "duration": 0.273159,
     "end_time": "2024-10-26T11:13:08.336777",
     "exception": false,
     "start_time": "2024-10-26T11:13:08.063618",
     "status": "completed"
    },
    "tags": []
   },
   "outputs": [
    {
     "data": {
      "image/png": "[encoded data removed]",
      "text/plain": [
       "<Figure size 640x480 with 1 Axes>"
      ]
     },
     "metadata": {},
     "output_type": "display_data"
    }
   ],
   "source": [
    "import seaborn as sns\n",
    "graf = sns.barplot(df,x = \"Sex\",y = \"Survived\")\n",
    "graf.set_ylabel(\"Доля выживаемости\");"
   ]
  },
  {
   "cell_type": "markdown",
   "id": "7dcc36ee",
   "metadata": {
    "papermill": {
     "duration": 0.009505,
     "end_time": "2024-10-26T11:13:08.356143",
     "exception": false,
     "start_time": "2024-10-26T11:13:08.346638",
     "status": "completed"
    },
    "tags": []
   },
   "source": [
    "Расмотрим долю выживаемости взависимости от класса"
   ]
  },
  {
   "cell_type": "code",
   "execution_count": 8,
   "id": "4a3941dd",
   "metadata": {
    "execution": {
     "iopub.execute_input": "2024-10-26T11:13:08.377423Z",
     "iopub.status.busy": "2024-10-26T11:13:08.376523Z",
     "iopub.status.idle": "2024-10-26T11:13:08.659165Z",
     "shell.execute_reply": "2024-10-26T11:13:08.658148Z"
    },
    "papermill": {
     "duration": 0.295603,
     "end_time": "2024-10-26T11:13:08.661478",
     "exception": false,
     "start_time": "2024-10-26T11:13:08.365875",
     "status": "completed"
    },
    "tags": []
   },
   "outputs": [
    {
     "data": {
      "image/png": "[encoded data removed]",
      "text/plain": [
       "<Figure size 640x480 with 1 Axes>"
      ]
     },
     "metadata": {},
     "output_type": "display_data"
    }
   ],
   "source": [
    "graf = sns.barplot(df,x = \"Pclass\",y = \"Survived\")"
   ]
  },
  {
   "cell_type": "markdown",
   "id": "faece4ce",
   "metadata": {
    "papermill": {
     "duration": 0.00944,
     "end_time": "2024-10-26T11:13:08.680770",
     "exception": false,
     "start_time": "2024-10-26T11:13:08.671330",
     "status": "completed"
    },
    "tags": []
   },
   "source": [
    "Расмотрим долю выживаемости взависимости от порта посадки"
   ]
  },
  {
   "cell_type": "code",
   "execution_count": 9,
   "id": "dd9cf931",
   "metadata": {
    "execution": {
     "iopub.execute_input": "2024-10-26T11:13:08.702268Z",
     "iopub.status.busy": "2024-10-26T11:13:08.701337Z",
     "iopub.status.idle": "2024-10-26T11:13:08.977700Z",
     "shell.execute_reply": "2024-10-26T11:13:08.976588Z"
    },
    "papermill": {
     "duration": 0.289621,
     "end_time": "2024-10-26T11:13:08.980095",
     "exception": false,
     "start_time": "2024-10-26T11:13:08.690474",
     "status": "completed"
    },
    "tags": []
   },
   "outputs": [
    {
     "data": {
      "image/png": "[encoded data removed]",
      "text/plain": [
       "<Figure size 640x480 with 1 Axes>"
      ]
     },
     "metadata": {},
     "output_type": "display_data"
    }
   ],
   "source": [
    "graf = sns.barplot(df,x = \"Embarked\",y = \"Survived\")"
   ]
  },
  {
   "cell_type": "markdown",
   "id": "7be195ca",
   "metadata": {
    "papermill": {
     "duration": 0.00997,
     "end_time": "2024-10-26T11:13:09.001472",
     "exception": false,
     "start_time": "2024-10-26T11:13:08.991502",
     "status": "completed"
    },
    "tags": []
   },
   "source": [
    "Расмотрим долю выживаемости взависимости от количества родтвенников на борту"
   ]
  },
  {
   "cell_type": "code",
   "execution_count": 10,
   "id": "43451e87",
   "metadata": {
    "execution": {
     "iopub.execute_input": "2024-10-26T11:13:09.023676Z",
     "iopub.status.busy": "2024-10-26T11:13:09.022911Z",
     "iopub.status.idle": "2024-10-26T11:13:09.415237Z",
     "shell.execute_reply": "2024-10-26T11:13:09.414001Z"
    },
    "papermill": {
     "duration": 0.405966,
     "end_time": "2024-10-26T11:13:09.417543",
     "exception": false,
     "start_time": "2024-10-26T11:13:09.011577",
     "status": "completed"
    },
    "tags": []
   },
   "outputs": [
    {
     "data": {
      "image/png": "[encoded data removed]",
      "text/plain": [
       "<Figure size 640x480 with 1 Axes>"
      ]
     },
     "metadata": {},
     "output_type": "display_data"
    }
   ],
   "source": [
    "graf = sns.barplot(df,x = \"SibSp\",y = \"Survived\")"
   ]
  },
  {
   "cell_type": "markdown",
   "id": "9e3db93d",
   "metadata": {
    "papermill": {
     "duration": 0.009977,
     "end_time": "2024-10-26T11:13:09.437854",
     "exception": false,
     "start_time": "2024-10-26T11:13:09.427877",
     "status": "completed"
    },
    "tags": []
   },
   "source": [
    "как видим разница присутвует"
   ]
  },
  {
   "cell_type": "code",
   "execution_count": 11,
   "id": "cc5cb446",
   "metadata": {
    "execution": {
     "iopub.execute_input": "2024-10-26T11:13:09.460013Z",
     "iopub.status.busy": "2024-10-26T11:13:09.459575Z",
     "iopub.status.idle": "2024-10-26T11:13:09.468615Z",
     "shell.execute_reply": "2024-10-26T11:13:09.467639Z"
    },
    "papermill": {
     "duration": 0.022559,
     "end_time": "2024-10-26T11:13:09.470747",
     "exception": false,
     "start_time": "2024-10-26T11:13:09.448188",
     "status": "completed"
    },
    "tags": []
   },
   "outputs": [
    {
     "data": {
      "text/plain": [
       "PassengerId      0\n",
       "Survived         0\n",
       "Pclass           0\n",
       "Name             0\n",
       "Sex              0\n",
       "Age            177\n",
       "SibSp            0\n",
       "Parch            0\n",
       "Ticket           0\n",
       "Fare             0\n",
       "Cabin          687\n",
       "Embarked         2\n",
       "married          0\n",
       "dtype: int64"
      ]
     },
     "execution_count": 11,
     "metadata": {},
     "output_type": "execute_result"
    }
   ],
   "source": [
    "df.isnull().sum()"
   ]
  },
  {
   "cell_type": "code",
   "execution_count": 12,
   "id": "2fb727b0",
   "metadata": {
    "execution": {
     "iopub.execute_input": "2024-10-26T11:13:09.493930Z",
     "iopub.status.busy": "2024-10-26T11:13:09.493188Z",
     "iopub.status.idle": "2024-10-26T11:13:09.511743Z",
     "shell.execute_reply": "2024-10-26T11:13:09.510659Z"
    },
    "papermill": {
     "duration": 0.032402,
     "end_time": "2024-10-26T11:13:09.513801",
     "exception": false,
     "start_time": "2024-10-26T11:13:09.481399",
     "status": "completed"
    },
    "tags": []
   },
   "outputs": [
    {
     "data": {
      "text/html": [
       "<div>\n",
       "<style scoped>\n",
       "    .dataframe tbody tr th:only-of-type {\n",
       "        vertical-align: middle;\n",
       "    }\n",
       "\n",
       "    .dataframe tbody tr th {\n",
       "        vertical-align: top;\n",
       "    }\n",
       "\n",
       "    .dataframe thead th {\n",
       "        text-align: right;\n",
       "    }\n",
       "</style>\n",
       "<table border=\"1\" class=\"dataframe\">\n",
       "  <thead>\n",
       "    <tr style=\"text-align: right;\">\n",
       "      <th></th>\n",
       "      <th>PassengerId</th>\n",
       "      <th>Survived</th>\n",
       "      <th>Pclass</th>\n",
       "      <th>Name</th>\n",
       "      <th>Sex</th>\n",
       "      <th>Age</th>\n",
       "      <th>SibSp</th>\n",
       "      <th>Parch</th>\n",
       "      <th>Ticket</th>\n",
       "      <th>Fare</th>\n",
       "      <th>Cabin</th>\n",
       "      <th>Embarked</th>\n",
       "      <th>married</th>\n",
       "    </tr>\n",
       "  </thead>\n",
       "  <tbody>\n",
       "    <tr>\n",
       "      <th>0</th>\n",
       "      <td>1</td>\n",
       "      <td>0</td>\n",
       "      <td>3</td>\n",
       "      <td>Braund, Mr. Owen Harris</td>\n",
       "      <td>male</td>\n",
       "      <td>22.0</td>\n",
       "      <td>1</td>\n",
       "      <td>0</td>\n",
       "      <td>A/5 21171</td>\n",
       "      <td>7.2500</td>\n",
       "      <td>NaN</td>\n",
       "      <td>S</td>\n",
       "      <td>0</td>\n",
       "    </tr>\n",
       "    <tr>\n",
       "      <th>1</th>\n",
       "      <td>2</td>\n",
       "      <td>1</td>\n",
       "      <td>1</td>\n",
       "      <td>Cumings, Mrs. John Bradley (Florence Briggs Th...</td>\n",
       "      <td>female</td>\n",
       "      <td>38.0</td>\n",
       "      <td>1</td>\n",
       "      <td>0</td>\n",
       "      <td>PC 17599</td>\n",
       "      <td>71.2833</td>\n",
       "      <td>C85</td>\n",
       "      <td>C</td>\n",
       "      <td>1</td>\n",
       "    </tr>\n",
       "    <tr>\n",
       "      <th>2</th>\n",
       "      <td>3</td>\n",
       "      <td>1</td>\n",
       "      <td>3</td>\n",
       "      <td>Heikkinen, Miss. Laina</td>\n",
       "      <td>female</td>\n",
       "      <td>26.0</td>\n",
       "      <td>0</td>\n",
       "      <td>0</td>\n",
       "      <td>STON/O2. 3101282</td>\n",
       "      <td>7.9250</td>\n",
       "      <td>NaN</td>\n",
       "      <td>S</td>\n",
       "      <td>0</td>\n",
       "    </tr>\n",
       "    <tr>\n",
       "      <th>3</th>\n",
       "      <td>4</td>\n",
       "      <td>1</td>\n",
       "      <td>1</td>\n",
       "      <td>Futrelle, Mrs. Jacques Heath (Lily May Peel)</td>\n",
       "      <td>female</td>\n",
       "      <td>35.0</td>\n",
       "      <td>1</td>\n",
       "      <td>0</td>\n",
       "      <td>113803</td>\n",
       "      <td>53.1000</td>\n",
       "      <td>C123</td>\n",
       "      <td>S</td>\n",
       "      <td>1</td>\n",
       "    </tr>\n",
       "    <tr>\n",
       "      <th>4</th>\n",
       "      <td>5</td>\n",
       "      <td>0</td>\n",
       "      <td>3</td>\n",
       "      <td>Allen, Mr. William Henry</td>\n",
       "      <td>male</td>\n",
       "      <td>35.0</td>\n",
       "      <td>0</td>\n",
       "      <td>0</td>\n",
       "      <td>373450</td>\n",
       "      <td>8.0500</td>\n",
       "      <td>NaN</td>\n",
       "      <td>S</td>\n",
       "      <td>0</td>\n",
       "    </tr>\n",
       "    <tr>\n",
       "      <th>...</th>\n",
       "      <td>...</td>\n",
       "      <td>...</td>\n",
       "      <td>...</td>\n",
       "      <td>...</td>\n",
       "      <td>...</td>\n",
       "      <td>...</td>\n",
       "      <td>...</td>\n",
       "      <td>...</td>\n",
       "      <td>...</td>\n",
       "      <td>...</td>\n",
       "      <td>...</td>\n",
       "      <td>...</td>\n",
       "      <td>...</td>\n",
       "    </tr>\n",
       "    <tr>\n",
       "      <th>886</th>\n",
       "      <td>887</td>\n",
       "      <td>0</td>\n",
       "      <td>2</td>\n",
       "      <td>Montvila, Rev. Juozas</td>\n",
       "      <td>male</td>\n",
       "      <td>27.0</td>\n",
       "      <td>0</td>\n",
       "      <td>0</td>\n",
       "      <td>211536</td>\n",
       "      <td>13.0000</td>\n",
       "      <td>NaN</td>\n",
       "      <td>S</td>\n",
       "      <td>0</td>\n",
       "    </tr>\n",
       "    <tr>\n",
       "      <th>887</th>\n",
       "      <td>888</td>\n",
       "      <td>1</td>\n",
       "      <td>1</td>\n",
       "      <td>Graham, Miss. Margaret Edith</td>\n",
       "      <td>female</td>\n",
       "      <td>19.0</td>\n",
       "      <td>0</td>\n",
       "      <td>0</td>\n",
       "      <td>112053</td>\n",
       "      <td>30.0000</td>\n",
       "      <td>B42</td>\n",
       "      <td>S</td>\n",
       "      <td>0</td>\n",
       "    </tr>\n",
       "    <tr>\n",
       "      <th>888</th>\n",
       "      <td>889</td>\n",
       "      <td>0</td>\n",
       "      <td>3</td>\n",
       "      <td>Johnston, Miss. Catherine Helen \"Carrie\"</td>\n",
       "      <td>female</td>\n",
       "      <td>NaN</td>\n",
       "      <td>1</td>\n",
       "      <td>2</td>\n",
       "      <td>W./C. 6607</td>\n",
       "      <td>23.4500</td>\n",
       "      <td>NaN</td>\n",
       "      <td>S</td>\n",
       "      <td>0</td>\n",
       "    </tr>\n",
       "    <tr>\n",
       "      <th>889</th>\n",
       "      <td>890</td>\n",
       "      <td>1</td>\n",
       "      <td>1</td>\n",
       "      <td>Behr, Mr. Karl Howell</td>\n",
       "      <td>male</td>\n",
       "      <td>26.0</td>\n",
       "      <td>0</td>\n",
       "      <td>0</td>\n",
       "      <td>111369</td>\n",
       "      <td>30.0000</td>\n",
       "      <td>C148</td>\n",
       "      <td>C</td>\n",
       "      <td>0</td>\n",
       "    </tr>\n",
       "    <tr>\n",
       "      <th>890</th>\n",
       "      <td>891</td>\n",
       "      <td>0</td>\n",
       "      <td>3</td>\n",
       "      <td>Dooley, Mr. Patrick</td>\n",
       "      <td>male</td>\n",
       "      <td>32.0</td>\n",
       "      <td>0</td>\n",
       "      <td>0</td>\n",
       "      <td>370376</td>\n",
       "      <td>7.7500</td>\n",
       "      <td>NaN</td>\n",
       "      <td>Q</td>\n",
       "      <td>0</td>\n",
       "    </tr>\n",
       "  </tbody>\n",
       "</table>\n",
       "<p>891 rows × 13 columns</p>\n",
       "</div>"
      ],
      "text/plain": [
       "     PassengerId  Survived  Pclass  \\\n",
       "0              1         0       3   \n",
       "1              2         1       1   \n",
       "2              3         1       3   \n",
       "3              4         1       1   \n",
       "4              5         0       3   \n",
       "..           ...       ...     ...   \n",
       "886          887         0       2   \n",
       "887          888         1       1   \n",
       "888          889         0       3   \n",
       "889          890         1       1   \n",
       "890          891         0       3   \n",
       "\n",
       "                                                  Name     Sex   Age  SibSp  \\\n",
       "0                              Braund, Mr. Owen Harris    male  22.0      1   \n",
       "1    Cumings, Mrs. John Bradley (Florence Briggs Th...  female  38.0      1   \n",
       "2                               Heikkinen, Miss. Laina  female  26.0      0   \n",
       "3         Futrelle, Mrs. Jacques Heath (Lily May Peel)  female  35.0      1   \n",
       "4                             Allen, Mr. William Henry    male  35.0      0   \n",
       "..                                                 ...     ...   ...    ...   \n",
       "886                              Montvila, Rev. Juozas    male  27.0      0   \n",
       "887                       Graham, Miss. Margaret Edith  female  19.0      0   \n",
       "888           Johnston, Miss. Catherine Helen \"Carrie\"  female   NaN      1   \n",
       "889                              Behr, Mr. Karl Howell    male  26.0      0   \n",
       "890                                Dooley, Mr. Patrick    male  32.0      0   \n",
       "\n",
       "     Parch            Ticket     Fare Cabin Embarked  married  \n",
       "0        0         A/5 21171   7.2500   NaN        S        0  \n",
       "1        0          PC 17599  71.2833   C85        C        1  \n",
       "2        0  STON/O2. 3101282   7.9250   NaN        S        0  \n",
       "3        0            113803  53.1000  C123        S        1  \n",
       "4        0            373450   8.0500   NaN        S        0  \n",
       "..     ...               ...      ...   ...      ...      ...  \n",
       "886      0            211536  13.0000   NaN        S        0  \n",
       "887      0            112053  30.0000   B42        S        0  \n",
       "888      2        W./C. 6607  23.4500   NaN        S        0  \n",
       "889      0            111369  30.0000  C148        C        0  \n",
       "890      0            370376   7.7500   NaN        Q        0  \n",
       "\n",
       "[891 rows x 13 columns]"
      ]
     },
     "execution_count": 12,
     "metadata": {},
     "output_type": "execute_result"
    }
   ],
   "source": [
    "df_education = df\n",
    "df_education"
   ]
  },
  {
   "cell_type": "markdown",
   "id": "eef7b0e5",
   "metadata": {
    "papermill": {
     "duration": 0.010652,
     "end_time": "2024-10-26T11:13:09.535517",
     "exception": false,
     "start_time": "2024-10-26T11:13:09.524865",
     "status": "completed"
    },
    "tags": []
   },
   "source": [
    "удалим колонку \"Cabin\" т.к большая часть значений в ней это null"
   ]
  },
  {
   "cell_type": "code",
   "execution_count": 13,
   "id": "d9d81852",
   "metadata": {
    "execution": {
     "iopub.execute_input": "2024-10-26T11:13:09.558897Z",
     "iopub.status.busy": "2024-10-26T11:13:09.558518Z",
     "iopub.status.idle": "2024-10-26T11:13:09.578496Z",
     "shell.execute_reply": "2024-10-26T11:13:09.577444Z"
    },
    "papermill": {
     "duration": 0.034309,
     "end_time": "2024-10-26T11:13:09.580711",
     "exception": false,
     "start_time": "2024-10-26T11:13:09.546402",
     "status": "completed"
    },
    "tags": []
   },
   "outputs": [
    {
     "data": {
      "text/html": [
       "<div>\n",
       "<style scoped>\n",
       "    .dataframe tbody tr th:only-of-type {\n",
       "        vertical-align: middle;\n",
       "    }\n",
       "\n",
       "    .dataframe tbody tr th {\n",
       "        vertical-align: top;\n",
       "    }\n",
       "\n",
       "    .dataframe thead th {\n",
       "        text-align: right;\n",
       "    }\n",
       "</style>\n",
       "<table border=\"1\" class=\"dataframe\">\n",
       "  <thead>\n",
       "    <tr style=\"text-align: right;\">\n",
       "      <th></th>\n",
       "      <th>PassengerId</th>\n",
       "      <th>Survived</th>\n",
       "      <th>Pclass</th>\n",
       "      <th>Name</th>\n",
       "      <th>Sex</th>\n",
       "      <th>Age</th>\n",
       "      <th>SibSp</th>\n",
       "      <th>Parch</th>\n",
       "      <th>Ticket</th>\n",
       "      <th>Fare</th>\n",
       "      <th>Embarked</th>\n",
       "      <th>married</th>\n",
       "    </tr>\n",
       "  </thead>\n",
       "  <tbody>\n",
       "    <tr>\n",
       "      <th>0</th>\n",
       "      <td>1</td>\n",
       "      <td>0</td>\n",
       "      <td>3</td>\n",
       "      <td>Braund, Mr. Owen Harris</td>\n",
       "      <td>male</td>\n",
       "      <td>22.0</td>\n",
       "      <td>1</td>\n",
       "      <td>0</td>\n",
       "      <td>A/5 21171</td>\n",
       "      <td>7.2500</td>\n",
       "      <td>S</td>\n",
       "      <td>0</td>\n",
       "    </tr>\n",
       "    <tr>\n",
       "      <th>1</th>\n",
       "      <td>2</td>\n",
       "      <td>1</td>\n",
       "      <td>1</td>\n",
       "      <td>Cumings, Mrs. John Bradley (Florence Briggs Th...</td>\n",
       "      <td>female</td>\n",
       "      <td>38.0</td>\n",
       "      <td>1</td>\n",
       "      <td>0</td>\n",
       "      <td>PC 17599</td>\n",
       "      <td>71.2833</td>\n",
       "      <td>C</td>\n",
       "      <td>1</td>\n",
       "    </tr>\n",
       "    <tr>\n",
       "      <th>2</th>\n",
       "      <td>3</td>\n",
       "      <td>1</td>\n",
       "      <td>3</td>\n",
       "      <td>Heikkinen, Miss. Laina</td>\n",
       "      <td>female</td>\n",
       "      <td>26.0</td>\n",
       "      <td>0</td>\n",
       "      <td>0</td>\n",
       "      <td>STON/O2. 3101282</td>\n",
       "      <td>7.9250</td>\n",
       "      <td>S</td>\n",
       "      <td>0</td>\n",
       "    </tr>\n",
       "    <tr>\n",
       "      <th>3</th>\n",
       "      <td>4</td>\n",
       "      <td>1</td>\n",
       "      <td>1</td>\n",
       "      <td>Futrelle, Mrs. Jacques Heath (Lily May Peel)</td>\n",
       "      <td>female</td>\n",
       "      <td>35.0</td>\n",
       "      <td>1</td>\n",
       "      <td>0</td>\n",
       "      <td>113803</td>\n",
       "      <td>53.1000</td>\n",
       "      <td>S</td>\n",
       "      <td>1</td>\n",
       "    </tr>\n",
       "    <tr>\n",
       "      <th>4</th>\n",
       "      <td>5</td>\n",
       "      <td>0</td>\n",
       "      <td>3</td>\n",
       "      <td>Allen, Mr. William Henry</td>\n",
       "      <td>male</td>\n",
       "      <td>35.0</td>\n",
       "      <td>0</td>\n",
       "      <td>0</td>\n",
       "      <td>373450</td>\n",
       "      <td>8.0500</td>\n",
       "      <td>S</td>\n",
       "      <td>0</td>\n",
       "    </tr>\n",
       "    <tr>\n",
       "      <th>...</th>\n",
       "      <td>...</td>\n",
       "      <td>...</td>\n",
       "      <td>...</td>\n",
       "      <td>...</td>\n",
       "      <td>...</td>\n",
       "      <td>...</td>\n",
       "      <td>...</td>\n",
       "      <td>...</td>\n",
       "      <td>...</td>\n",
       "      <td>...</td>\n",
       "      <td>...</td>\n",
       "      <td>...</td>\n",
       "    </tr>\n",
       "    <tr>\n",
       "      <th>886</th>\n",
       "      <td>887</td>\n",
       "      <td>0</td>\n",
       "      <td>2</td>\n",
       "      <td>Montvila, Rev. Juozas</td>\n",
       "      <td>male</td>\n",
       "      <td>27.0</td>\n",
       "      <td>0</td>\n",
       "      <td>0</td>\n",
       "      <td>211536</td>\n",
       "      <td>13.0000</td>\n",
       "      <td>S</td>\n",
       "      <td>0</td>\n",
       "    </tr>\n",
       "    <tr>\n",
       "      <th>887</th>\n",
       "      <td>888</td>\n",
       "      <td>1</td>\n",
       "      <td>1</td>\n",
       "      <td>Graham, Miss. Margaret Edith</td>\n",
       "      <td>female</td>\n",
       "      <td>19.0</td>\n",
       "      <td>0</td>\n",
       "      <td>0</td>\n",
       "      <td>112053</td>\n",
       "      <td>30.0000</td>\n",
       "      <td>S</td>\n",
       "      <td>0</td>\n",
       "    </tr>\n",
       "    <tr>\n",
       "      <th>888</th>\n",
       "      <td>889</td>\n",
       "      <td>0</td>\n",
       "      <td>3</td>\n",
       "      <td>Johnston, Miss. Catherine Helen \"Carrie\"</td>\n",
       "      <td>female</td>\n",
       "      <td>NaN</td>\n",
       "      <td>1</td>\n",
       "      <td>2</td>\n",
       "      <td>W./C. 6607</td>\n",
       "      <td>23.4500</td>\n",
       "      <td>S</td>\n",
       "      <td>0</td>\n",
       "    </tr>\n",
       "    <tr>\n",
       "      <th>889</th>\n",
       "      <td>890</td>\n",
       "      <td>1</td>\n",
       "      <td>1</td>\n",
       "      <td>Behr, Mr. Karl Howell</td>\n",
       "      <td>male</td>\n",
       "      <td>26.0</td>\n",
       "      <td>0</td>\n",
       "      <td>0</td>\n",
       "      <td>111369</td>\n",
       "      <td>30.0000</td>\n",
       "      <td>C</td>\n",
       "      <td>0</td>\n",
       "    </tr>\n",
       "    <tr>\n",
       "      <th>890</th>\n",
       "      <td>891</td>\n",
       "      <td>0</td>\n",
       "      <td>3</td>\n",
       "      <td>Dooley, Mr. Patrick</td>\n",
       "      <td>male</td>\n",
       "      <td>32.0</td>\n",
       "      <td>0</td>\n",
       "      <td>0</td>\n",
       "      <td>370376</td>\n",
       "      <td>7.7500</td>\n",
       "      <td>Q</td>\n",
       "      <td>0</td>\n",
       "    </tr>\n",
       "  </tbody>\n",
       "</table>\n",
       "<p>891 rows × 12 columns</p>\n",
       "</div>"
      ],
      "text/plain": [
       "     PassengerId  Survived  Pclass  \\\n",
       "0              1         0       3   \n",
       "1              2         1       1   \n",
       "2              3         1       3   \n",
       "3              4         1       1   \n",
       "4              5         0       3   \n",
       "..           ...       ...     ...   \n",
       "886          887         0       2   \n",
       "887          888         1       1   \n",
       "888          889         0       3   \n",
       "889          890         1       1   \n",
       "890          891         0       3   \n",
       "\n",
       "                                                  Name     Sex   Age  SibSp  \\\n",
       "0                              Braund, Mr. Owen Harris    male  22.0      1   \n",
       "1    Cumings, Mrs. John Bradley (Florence Briggs Th...  female  38.0      1   \n",
       "2                               Heikkinen, Miss. Laina  female  26.0      0   \n",
       "3         Futrelle, Mrs. Jacques Heath (Lily May Peel)  female  35.0      1   \n",
       "4                             Allen, Mr. William Henry    male  35.0      0   \n",
       "..                                                 ...     ...   ...    ...   \n",
       "886                              Montvila, Rev. Juozas    male  27.0      0   \n",
       "887                       Graham, Miss. Margaret Edith  female  19.0      0   \n",
       "888           Johnston, Miss. Catherine Helen \"Carrie\"  female   NaN      1   \n",
       "889                              Behr, Mr. Karl Howell    male  26.0      0   \n",
       "890                                Dooley, Mr. Patrick    male  32.0      0   \n",
       "\n",
       "     Parch            Ticket     Fare Embarked  married  \n",
       "0        0         A/5 21171   7.2500        S        0  \n",
       "1        0          PC 17599  71.2833        C        1  \n",
       "2        0  STON/O2. 3101282   7.9250        S        0  \n",
       "3        0            113803  53.1000        S        1  \n",
       "4        0            373450   8.0500        S        0  \n",
       "..     ...               ...      ...      ...      ...  \n",
       "886      0            211536  13.0000        S        0  \n",
       "887      0            112053  30.0000        S        0  \n",
       "888      2        W./C. 6607  23.4500        S        0  \n",
       "889      0            111369  30.0000        C        0  \n",
       "890      0            370376   7.7500        Q        0  \n",
       "\n",
       "[891 rows x 12 columns]"
      ]
     },
     "execution_count": 13,
     "metadata": {},
     "output_type": "execute_result"
    }
   ],
   "source": [
    "df_education =df_education.drop(\"Cabin\",axis=1)\n",
    "df_education"
   ]
  },
  {
   "cell_type": "markdown",
   "id": "ada5622c",
   "metadata": {
    "papermill": {
     "duration": 0.010987,
     "end_time": "2024-10-26T11:13:09.602935",
     "exception": false,
     "start_time": "2024-10-26T11:13:09.591948",
     "status": "completed"
    },
    "tags": []
   },
   "source": [
    "Добавим новую колонку которая будет считать общий размер семьи"
   ]
  },
  {
   "cell_type": "code",
   "execution_count": 14,
   "id": "1aae3544",
   "metadata": {
    "execution": {
     "iopub.execute_input": "2024-10-26T11:13:09.627156Z",
     "iopub.status.busy": "2024-10-26T11:13:09.626426Z",
     "iopub.status.idle": "2024-10-26T11:13:09.632458Z",
     "shell.execute_reply": "2024-10-26T11:13:09.631331Z"
    },
    "papermill": {
     "duration": 0.020263,
     "end_time": "2024-10-26T11:13:09.634475",
     "exception": false,
     "start_time": "2024-10-26T11:13:09.614212",
     "status": "completed"
    },
    "tags": []
   },
   "outputs": [],
   "source": [
    "df_education[\"Family_size\"]  =df_education[\"SibSp\"] + df_education[\"Parch\"]"
   ]
  },
  {
   "cell_type": "code",
   "execution_count": 15,
   "id": "8192756b",
   "metadata": {
    "execution": {
     "iopub.execute_input": "2024-10-26T11:13:09.658657Z",
     "iopub.status.busy": "2024-10-26T11:13:09.657945Z",
     "iopub.status.idle": "2024-10-26T11:13:09.669000Z",
     "shell.execute_reply": "2024-10-26T11:13:09.668061Z"
    },
    "papermill": {
     "duration": 0.025508,
     "end_time": "2024-10-26T11:13:09.671147",
     "exception": false,
     "start_time": "2024-10-26T11:13:09.645639",
     "status": "completed"
    },
    "tags": []
   },
   "outputs": [
    {
     "data": {
      "text/plain": [
       "PassengerId    0\n",
       "Survived       0\n",
       "Pclass         0\n",
       "Name           0\n",
       "Sex            0\n",
       "Age            0\n",
       "SibSp          0\n",
       "Parch          0\n",
       "Ticket         0\n",
       "Fare           0\n",
       "Embarked       0\n",
       "married        0\n",
       "Family_size    0\n",
       "dtype: int64"
      ]
     },
     "execution_count": 15,
     "metadata": {},
     "output_type": "execute_result"
    }
   ],
   "source": [
    "df_education[\"Age\"] = df_education['Age'].mean()\n",
    "df_education  =df_education[~(df_education['Embarked'].isnull())]\n",
    "df_education.isnull().sum()"
   ]
  },
  {
   "cell_type": "markdown",
   "id": "2261bb96",
   "metadata": {
    "papermill": {
     "duration": 0.011189,
     "end_time": "2024-10-26T11:13:09.693870",
     "exception": false,
     "start_time": "2024-10-26T11:13:09.682681",
     "status": "completed"
    },
    "tags": []
   },
   "source": [
    "Удалим некоторые колонки ,которые ни ак не влияют на выживаемость"
   ]
  },
  {
   "cell_type": "code",
   "execution_count": 16,
   "id": "ae2612bd",
   "metadata": {
    "execution": {
     "iopub.execute_input": "2024-10-26T11:13:09.718925Z",
     "iopub.status.busy": "2024-10-26T11:13:09.718520Z",
     "iopub.status.idle": "2024-10-26T11:13:09.724902Z",
     "shell.execute_reply": "2024-10-26T11:13:09.723812Z"
    },
    "papermill": {
     "duration": 0.021586,
     "end_time": "2024-10-26T11:13:09.727425",
     "exception": false,
     "start_time": "2024-10-26T11:13:09.705839",
     "status": "completed"
    },
    "tags": []
   },
   "outputs": [],
   "source": [
    "df_education = df_education.drop([\"PassengerId\",\"Name\",\"Ticket\"],axis  =1)"
   ]
  },
  {
   "cell_type": "code",
   "execution_count": null,
   "id": "a90b16e5",
   "metadata": {
    "papermill": {
     "duration": 0.010932,
     "end_time": "2024-10-26T11:13:09.749731",
     "exception": false,
     "start_time": "2024-10-26T11:13:09.738799",
     "status": "completed"
    },
    "tags": []
   },
   "outputs": [],
   "source": []
  },
  {
   "cell_type": "code",
   "execution_count": 17,
   "id": "ad1f13dc",
   "metadata": {
    "execution": {
     "iopub.execute_input": "2024-10-26T11:13:09.774547Z",
     "iopub.status.busy": "2024-10-26T11:13:09.773641Z",
     "iopub.status.idle": "2024-10-26T11:13:09.781313Z",
     "shell.execute_reply": "2024-10-26T11:13:09.780312Z"
    },
    "papermill": {
     "duration": 0.022353,
     "end_time": "2024-10-26T11:13:09.783370",
     "exception": false,
     "start_time": "2024-10-26T11:13:09.761017",
     "status": "completed"
    },
    "tags": []
   },
   "outputs": [
    {
     "data": {
      "text/plain": [
       "Index(['Sex', 'Embarked'], dtype='object')"
      ]
     },
     "execution_count": 17,
     "metadata": {},
     "output_type": "execute_result"
    }
   ],
   "source": [
    "categorial_col = df_education.select_dtypes(include=['object']).columns\n",
    "categorial_col"
   ]
  },
  {
   "cell_type": "markdown",
   "id": "e92f851b",
   "metadata": {
    "papermill": {
     "duration": 0.011239,
     "end_time": "2024-10-26T11:13:09.806053",
     "exception": false,
     "start_time": "2024-10-26T11:13:09.794814",
     "status": "completed"
    },
    "tags": []
   },
   "source": [
    "Изменяем категориальные признаки в вещественные"
   ]
  },
  {
   "cell_type": "code",
   "execution_count": 18,
   "id": "ac5d9638",
   "metadata": {
    "execution": {
     "iopub.execute_input": "2024-10-26T11:13:09.831195Z",
     "iopub.status.busy": "2024-10-26T11:13:09.830270Z",
     "iopub.status.idle": "2024-10-26T11:13:09.983935Z",
     "shell.execute_reply": "2024-10-26T11:13:09.982907Z"
    },
    "papermill": {
     "duration": 0.168746,
     "end_time": "2024-10-26T11:13:09.986318",
     "exception": false,
     "start_time": "2024-10-26T11:13:09.817572",
     "status": "completed"
    },
    "tags": []
   },
   "outputs": [
    {
     "data": {
      "text/html": [
       "<div>\n",
       "<style scoped>\n",
       "    .dataframe tbody tr th:only-of-type {\n",
       "        vertical-align: middle;\n",
       "    }\n",
       "\n",
       "    .dataframe tbody tr th {\n",
       "        vertical-align: top;\n",
       "    }\n",
       "\n",
       "    .dataframe thead th {\n",
       "        text-align: right;\n",
       "    }\n",
       "</style>\n",
       "<table border=\"1\" class=\"dataframe\">\n",
       "  <thead>\n",
       "    <tr style=\"text-align: right;\">\n",
       "      <th></th>\n",
       "      <th>Survived</th>\n",
       "      <th>Pclass</th>\n",
       "      <th>Sex</th>\n",
       "      <th>Age</th>\n",
       "      <th>SibSp</th>\n",
       "      <th>Parch</th>\n",
       "      <th>Fare</th>\n",
       "      <th>Embarked</th>\n",
       "      <th>married</th>\n",
       "      <th>Family_size</th>\n",
       "    </tr>\n",
       "  </thead>\n",
       "  <tbody>\n",
       "    <tr>\n",
       "      <th>0</th>\n",
       "      <td>0</td>\n",
       "      <td>3</td>\n",
       "      <td>1</td>\n",
       "      <td>29.699118</td>\n",
       "      <td>1</td>\n",
       "      <td>0</td>\n",
       "      <td>7.2500</td>\n",
       "      <td>2</td>\n",
       "      <td>0</td>\n",
       "      <td>1</td>\n",
       "    </tr>\n",
       "    <tr>\n",
       "      <th>1</th>\n",
       "      <td>1</td>\n",
       "      <td>1</td>\n",
       "      <td>0</td>\n",
       "      <td>29.699118</td>\n",
       "      <td>1</td>\n",
       "      <td>0</td>\n",
       "      <td>71.2833</td>\n",
       "      <td>0</td>\n",
       "      <td>1</td>\n",
       "      <td>1</td>\n",
       "    </tr>\n",
       "    <tr>\n",
       "      <th>2</th>\n",
       "      <td>1</td>\n",
       "      <td>3</td>\n",
       "      <td>0</td>\n",
       "      <td>29.699118</td>\n",
       "      <td>0</td>\n",
       "      <td>0</td>\n",
       "      <td>7.9250</td>\n",
       "      <td>2</td>\n",
       "      <td>0</td>\n",
       "      <td>0</td>\n",
       "    </tr>\n",
       "    <tr>\n",
       "      <th>3</th>\n",
       "      <td>1</td>\n",
       "      <td>1</td>\n",
       "      <td>0</td>\n",
       "      <td>29.699118</td>\n",
       "      <td>1</td>\n",
       "      <td>0</td>\n",
       "      <td>53.1000</td>\n",
       "      <td>2</td>\n",
       "      <td>1</td>\n",
       "      <td>1</td>\n",
       "    </tr>\n",
       "    <tr>\n",
       "      <th>4</th>\n",
       "      <td>0</td>\n",
       "      <td>3</td>\n",
       "      <td>1</td>\n",
       "      <td>29.699118</td>\n",
       "      <td>0</td>\n",
       "      <td>0</td>\n",
       "      <td>8.0500</td>\n",
       "      <td>2</td>\n",
       "      <td>0</td>\n",
       "      <td>0</td>\n",
       "    </tr>\n",
       "    <tr>\n",
       "      <th>...</th>\n",
       "      <td>...</td>\n",
       "      <td>...</td>\n",
       "      <td>...</td>\n",
       "      <td>...</td>\n",
       "      <td>...</td>\n",
       "      <td>...</td>\n",
       "      <td>...</td>\n",
       "      <td>...</td>\n",
       "      <td>...</td>\n",
       "      <td>...</td>\n",
       "    </tr>\n",
       "    <tr>\n",
       "      <th>886</th>\n",
       "      <td>0</td>\n",
       "      <td>2</td>\n",
       "      <td>1</td>\n",
       "      <td>29.699118</td>\n",
       "      <td>0</td>\n",
       "      <td>0</td>\n",
       "      <td>13.0000</td>\n",
       "      <td>2</td>\n",
       "      <td>0</td>\n",
       "      <td>0</td>\n",
       "    </tr>\n",
       "    <tr>\n",
       "      <th>887</th>\n",
       "      <td>1</td>\n",
       "      <td>1</td>\n",
       "      <td>0</td>\n",
       "      <td>29.699118</td>\n",
       "      <td>0</td>\n",
       "      <td>0</td>\n",
       "      <td>30.0000</td>\n",
       "      <td>2</td>\n",
       "      <td>0</td>\n",
       "      <td>0</td>\n",
       "    </tr>\n",
       "    <tr>\n",
       "      <th>888</th>\n",
       "      <td>0</td>\n",
       "      <td>3</td>\n",
       "      <td>0</td>\n",
       "      <td>29.699118</td>\n",
       "      <td>1</td>\n",
       "      <td>2</td>\n",
       "      <td>23.4500</td>\n",
       "      <td>2</td>\n",
       "      <td>0</td>\n",
       "      <td>3</td>\n",
       "    </tr>\n",
       "    <tr>\n",
       "      <th>889</th>\n",
       "      <td>1</td>\n",
       "      <td>1</td>\n",
       "      <td>1</td>\n",
       "      <td>29.699118</td>\n",
       "      <td>0</td>\n",
       "      <td>0</td>\n",
       "      <td>30.0000</td>\n",
       "      <td>0</td>\n",
       "      <td>0</td>\n",
       "      <td>0</td>\n",
       "    </tr>\n",
       "    <tr>\n",
       "      <th>890</th>\n",
       "      <td>0</td>\n",
       "      <td>3</td>\n",
       "      <td>1</td>\n",
       "      <td>29.699118</td>\n",
       "      <td>0</td>\n",
       "      <td>0</td>\n",
       "      <td>7.7500</td>\n",
       "      <td>1</td>\n",
       "      <td>0</td>\n",
       "      <td>0</td>\n",
       "    </tr>\n",
       "  </tbody>\n",
       "</table>\n",
       "<p>889 rows × 10 columns</p>\n",
       "</div>"
      ],
      "text/plain": [
       "     Survived  Pclass  Sex        Age  SibSp  Parch     Fare  Embarked  \\\n",
       "0           0       3    1  29.699118      1      0   7.2500         2   \n",
       "1           1       1    0  29.699118      1      0  71.2833         0   \n",
       "2           1       3    0  29.699118      0      0   7.9250         2   \n",
       "3           1       1    0  29.699118      1      0  53.1000         2   \n",
       "4           0       3    1  29.699118      0      0   8.0500         2   \n",
       "..        ...     ...  ...        ...    ...    ...      ...       ...   \n",
       "886         0       2    1  29.699118      0      0  13.0000         2   \n",
       "887         1       1    0  29.699118      0      0  30.0000         2   \n",
       "888         0       3    0  29.699118      1      2  23.4500         2   \n",
       "889         1       1    1  29.699118      0      0  30.0000         0   \n",
       "890         0       3    1  29.699118      0      0   7.7500         1   \n",
       "\n",
       "     married  Family_size  \n",
       "0          0            1  \n",
       "1          1            1  \n",
       "2          0            0  \n",
       "3          1            1  \n",
       "4          0            0  \n",
       "..       ...          ...  \n",
       "886        0            0  \n",
       "887        0            0  \n",
       "888        0            3  \n",
       "889        0            0  \n",
       "890        0            0  \n",
       "\n",
       "[889 rows x 10 columns]"
      ]
     },
     "execution_count": 18,
     "metadata": {},
     "output_type": "execute_result"
    }
   ],
   "source": [
    "from sklearn.preprocessing import LabelEncoder\n",
    "for col in categorial_col:\n",
    "    le = LabelEncoder()\n",
    "    df_education[col] = le.fit_transform(df_education[col])\n",
    "df_education"
   ]
  },
  {
   "cell_type": "code",
   "execution_count": 19,
   "id": "c98825ce",
   "metadata": {
    "execution": {
     "iopub.execute_input": "2024-10-26T11:13:10.014838Z",
     "iopub.status.busy": "2024-10-26T11:13:10.014433Z",
     "iopub.status.idle": "2024-10-26T11:13:10.021074Z",
     "shell.execute_reply": "2024-10-26T11:13:10.020044Z"
    },
    "papermill": {
     "duration": 0.023247,
     "end_time": "2024-10-26T11:13:10.023214",
     "exception": false,
     "start_time": "2024-10-26T11:13:09.999967",
     "status": "completed"
    },
    "tags": []
   },
   "outputs": [],
   "source": [
    "X = df_education.drop(columns = ['Survived']) \n",
    "y = df_education[\"Survived\"]"
   ]
  },
  {
   "cell_type": "markdown",
   "id": "8a28ce41",
   "metadata": {
    "papermill": {
     "duration": 0.011512,
     "end_time": "2024-10-26T11:13:10.046596",
     "exception": false,
     "start_time": "2024-10-26T11:13:10.035084",
     "status": "completed"
    },
    "tags": []
   },
   "source": [
    "Возможно на выживаемость влияет не один конкретный признак ,а их совокупность.Например,женщина аозрастом 20 лет имеет больше шанс на выживаемость ,чем 70летний мужчина"
   ]
  },
  {
   "cell_type": "code",
   "execution_count": 20,
   "id": "d469ece5",
   "metadata": {
    "execution": {
     "iopub.execute_input": "2024-10-26T11:13:10.073177Z",
     "iopub.status.busy": "2024-10-26T11:13:10.072256Z",
     "iopub.status.idle": "2024-10-26T11:13:10.084756Z",
     "shell.execute_reply": "2024-10-26T11:13:10.083805Z"
    },
    "papermill": {
     "duration": 0.027613,
     "end_time": "2024-10-26T11:13:10.086931",
     "exception": false,
     "start_time": "2024-10-26T11:13:10.059318",
     "status": "completed"
    },
    "tags": []
   },
   "outputs": [
    {
     "data": {
      "text/plain": [
       "array([[ 3.        ,  1.        , 29.69911765, ...,  0.        ,\n",
       "         0.        ,  1.        ],\n",
       "       [ 1.        ,  0.        , 29.69911765, ...,  1.        ,\n",
       "         1.        ,  1.        ],\n",
       "       [ 3.        ,  0.        , 29.69911765, ...,  0.        ,\n",
       "         0.        ,  0.        ],\n",
       "       ...,\n",
       "       [ 3.        ,  0.        , 29.69911765, ...,  0.        ,\n",
       "         0.        ,  9.        ],\n",
       "       [ 1.        ,  1.        , 29.69911765, ...,  0.        ,\n",
       "         0.        ,  0.        ],\n",
       "       [ 3.        ,  1.        , 29.69911765, ...,  0.        ,\n",
       "         0.        ,  0.        ]])"
      ]
     },
     "execution_count": 20,
     "metadata": {},
     "output_type": "execute_result"
    }
   ],
   "source": [
    "from sklearn.preprocessing import PolynomialFeatures\n",
    "converter = PolynomialFeatures(degree = 2,interaction_only=False, include_bias=False)\n",
    "converter.fit(X)\n",
    "poly_featers = converter.transform(X)\n",
    "poly_featers"
   ]
  },
  {
   "cell_type": "markdown",
   "id": "29315c4f",
   "metadata": {
    "papermill": {
     "duration": 0.01176,
     "end_time": "2024-10-26T11:13:10.110913",
     "exception": false,
     "start_time": "2024-10-26T11:13:10.099153",
     "status": "completed"
    },
    "tags": []
   },
   "source": [
    "Подбираем лучший learning_rate для нашей модели"
   ]
  },
  {
   "cell_type": "code",
   "execution_count": 21,
   "id": "d6e71ff0",
   "metadata": {
    "execution": {
     "iopub.execute_input": "2024-10-26T11:13:10.136756Z",
     "iopub.status.busy": "2024-10-26T11:13:10.135920Z",
     "iopub.status.idle": "2024-10-26T11:13:56.178779Z",
     "shell.execute_reply": "2024-10-26T11:13:56.177514Z"
    },
    "papermill": {
     "duration": 46.058286,
     "end_time": "2024-10-26T11:13:56.181123",
     "exception": false,
     "start_time": "2024-10-26T11:13:10.122837",
     "status": "completed"
    },
    "tags": []
   },
   "outputs": [
    {
     "name": "stdout",
     "output_type": "stream",
     "text": [
      "Epoch 1/7\n"
     ]
    },
    {
     "name": "stderr",
     "output_type": "stream",
     "text": [
      "/opt/conda/lib/python3.10/site-packages/keras/src/layers/core/dense.py:87: UserWarning: Do not pass an `input_shape`/`input_dim` argument to a layer. When using Sequential models, prefer using an `Input(shape)` object as the first layer in the model instead.\n",
      "  super().__init__(activity_regularizer=activity_regularizer, **kwargs)\n"
     ]
    },
    {
     "name": "stdout",
     "output_type": "stream",
     "text": [
      "\u001b[1m57/57\u001b[0m \u001b[32m━━━━━━━━━━━━━━━━━━━━\u001b[0m\u001b[37m\u001b[0m \u001b[1m2s\u001b[0m 5ms/step - accuracy: 0.6147 - loss: 0.6860 - val_accuracy: 0.6014 - val_loss: 0.6756\n",
      "Epoch 2/7\n",
      "\u001b[1m57/57\u001b[0m \u001b[32m━━━━━━━━━━━━━━━━━━━━\u001b[0m\u001b[37m\u001b[0m \u001b[1m0s\u001b[0m 2ms/step - accuracy: 0.5968 - loss: 0.6771 - val_accuracy: 0.6154 - val_loss: 0.6599\n",
      "Epoch 3/7\n",
      "\u001b[1m57/57\u001b[0m \u001b[32m━━━━━━━━━━━━━━━━━━━━\u001b[0m\u001b[37m\u001b[0m \u001b[1m0s\u001b[0m 2ms/step - accuracy: 0.7032 - loss: 0.6202 - val_accuracy: 0.6643 - val_loss: 0.6449\n",
      "Epoch 4/7\n",
      "\u001b[1m57/57\u001b[0m \u001b[32m━━━━━━━━━━━━━━━━━━━━\u001b[0m\u001b[37m\u001b[0m \u001b[1m0s\u001b[0m 2ms/step - accuracy: 0.6957 - loss: 0.6249 - val_accuracy: 0.6643 - val_loss: 0.6321\n",
      "Epoch 5/7\n",
      "\u001b[1m57/57\u001b[0m \u001b[32m━━━━━━━━━━━━━━━━━━━━\u001b[0m\u001b[37m\u001b[0m \u001b[1m0s\u001b[0m 2ms/step - accuracy: 0.6890 - loss: 0.6079 - val_accuracy: 0.6783 - val_loss: 0.6194\n",
      "Epoch 6/7\n",
      "\u001b[1m57/57\u001b[0m \u001b[32m━━━━━━━━━━━━━━━━━━━━\u001b[0m\u001b[37m\u001b[0m \u001b[1m0s\u001b[0m 2ms/step - accuracy: 0.6902 - loss: 0.5842 - val_accuracy: 0.6783 - val_loss: 0.6074\n",
      "Epoch 7/7\n",
      "\u001b[1m57/57\u001b[0m \u001b[32m━━━━━━━━━━━━━━━━━━━━\u001b[0m\u001b[37m\u001b[0m \u001b[1m0s\u001b[0m 2ms/step - accuracy: 0.7170 - loss: 0.5655 - val_accuracy: 0.6783 - val_loss: 0.5974\n",
      "\u001b[1m6/6\u001b[0m \u001b[32m━━━━━━━━━━━━━━━━━━━━\u001b[0m\u001b[37m\u001b[0m \u001b[1m0s\u001b[0m 2ms/step - accuracy: 0.7463 - loss: 0.5647 \n",
      "Epoch 1/7\n",
      "\u001b[1m57/57\u001b[0m \u001b[32m━━━━━━━━━━━━━━━━━━━━\u001b[0m\u001b[37m\u001b[0m \u001b[1m2s\u001b[0m 5ms/step - accuracy: 0.6059 - loss: 0.6613 - val_accuracy: 0.6783 - val_loss: 0.5714\n",
      "Epoch 2/7\n",
      "\u001b[1m57/57\u001b[0m \u001b[32m━━━━━━━━━━━━━━━━━━━━\u001b[0m\u001b[37m\u001b[0m \u001b[1m0s\u001b[0m 2ms/step - accuracy: 0.7389 - loss: 0.5280 - val_accuracy: 0.7413 - val_loss: 0.5203\n",
      "Epoch 3/7\n",
      "\u001b[1m57/57\u001b[0m \u001b[32m━━━━━━━━━━━━━━━━━━━━\u001b[0m\u001b[37m\u001b[0m \u001b[1m0s\u001b[0m 2ms/step - accuracy: 0.7462 - loss: 0.4670 - val_accuracy: 0.7413 - val_loss: 0.5029\n",
      "Epoch 4/7\n",
      "\u001b[1m57/57\u001b[0m \u001b[32m━━━━━━━━━━━━━━━━━━━━\u001b[0m\u001b[37m\u001b[0m \u001b[1m0s\u001b[0m 2ms/step - accuracy: 0.7929 - loss: 0.4513 - val_accuracy: 0.7413 - val_loss: 0.5003\n",
      "Epoch 5/7\n",
      "\u001b[1m57/57\u001b[0m \u001b[32m━━━━━━━━━━━━━━━━━━━━\u001b[0m\u001b[37m\u001b[0m \u001b[1m0s\u001b[0m 2ms/step - accuracy: 0.7895 - loss: 0.4205 - val_accuracy: 0.7692 - val_loss: 0.4975\n",
      "Epoch 6/7\n",
      "\u001b[1m57/57\u001b[0m \u001b[32m━━━━━━━━━━━━━━━━━━━━\u001b[0m\u001b[37m\u001b[0m \u001b[1m0s\u001b[0m 2ms/step - accuracy: 0.8042 - loss: 0.4253 - val_accuracy: 0.7762 - val_loss: 0.4933\n",
      "Epoch 7/7\n",
      "\u001b[1m57/57\u001b[0m \u001b[32m━━━━━━━━━━━━━━━━━━━━\u001b[0m\u001b[37m\u001b[0m \u001b[1m0s\u001b[0m 2ms/step - accuracy: 0.8115 - loss: 0.4246 - val_accuracy: 0.7622 - val_loss: 0.4868\n",
      "\u001b[1m6/6\u001b[0m \u001b[32m━━━━━━━━━━━━━━━━━━━━\u001b[0m\u001b[37m\u001b[0m \u001b[1m0s\u001b[0m 2ms/step - accuracy: 0.8009 - loss: 0.4588 \n",
      "Epoch 1/7\n",
      "\u001b[1m57/57\u001b[0m \u001b[32m━━━━━━━━━━━━━━━━━━━━\u001b[0m\u001b[37m\u001b[0m \u001b[1m2s\u001b[0m 5ms/step - accuracy: 0.6099 - loss: 0.8177 - val_accuracy: 0.7343 - val_loss: 0.5440\n",
      "Epoch 2/7\n",
      "\u001b[1m57/57\u001b[0m \u001b[32m━━━━━━━━━━━━━━━━━━━━\u001b[0m\u001b[37m\u001b[0m \u001b[1m0s\u001b[0m 2ms/step - accuracy: 0.7577 - loss: 0.5399 - val_accuracy: 0.7902 - val_loss: 0.5051\n",
      "Epoch 3/7\n",
      "\u001b[1m57/57\u001b[0m \u001b[32m━━━━━━━━━━━━━━━━━━━━\u001b[0m\u001b[37m\u001b[0m \u001b[1m0s\u001b[0m 2ms/step - accuracy: 0.8045 - loss: 0.4824 - val_accuracy: 0.7972 - val_loss: 0.4842\n",
      "Epoch 4/7\n",
      "\u001b[1m57/57\u001b[0m \u001b[32m━━━━━━━━━━━━━━━━━━━━\u001b[0m\u001b[37m\u001b[0m \u001b[1m0s\u001b[0m 2ms/step - accuracy: 0.8361 - loss: 0.4114 - val_accuracy: 0.7832 - val_loss: 0.4943\n",
      "Epoch 5/7\n",
      "\u001b[1m57/57\u001b[0m \u001b[32m━━━━━━━━━━━━━━━━━━━━\u001b[0m\u001b[37m\u001b[0m \u001b[1m0s\u001b[0m 3ms/step - accuracy: 0.7971 - loss: 0.4220 - val_accuracy: 0.7972 - val_loss: 0.4696\n",
      "Epoch 6/7\n",
      "\u001b[1m57/57\u001b[0m \u001b[32m━━━━━━━━━━━━━━━━━━━━\u001b[0m\u001b[37m\u001b[0m \u001b[1m0s\u001b[0m 2ms/step - accuracy: 0.7736 - loss: 0.4635 - val_accuracy: 0.7972 - val_loss: 0.4817\n",
      "Epoch 7/7\n",
      "\u001b[1m57/57\u001b[0m \u001b[32m━━━━━━━━━━━━━━━━━━━━\u001b[0m\u001b[37m\u001b[0m \u001b[1m0s\u001b[0m 2ms/step - accuracy: 0.8005 - loss: 0.3906 - val_accuracy: 0.8112 - val_loss: 0.4652\n",
      "\u001b[1m6/6\u001b[0m \u001b[32m━━━━━━━━━━━━━━━━━━━━\u001b[0m\u001b[37m\u001b[0m \u001b[1m0s\u001b[0m 2ms/step - accuracy: 0.8303 - loss: 0.4242 \n",
      "Epoch 1/7\n",
      "\u001b[1m57/57\u001b[0m \u001b[32m━━━━━━━━━━━━━━━━━━━━\u001b[0m\u001b[37m\u001b[0m \u001b[1m2s\u001b[0m 5ms/step - accuracy: 0.6849 - loss: 0.6467 - val_accuracy: 0.7692 - val_loss: 0.5923\n",
      "Epoch 2/7\n",
      "\u001b[1m57/57\u001b[0m \u001b[32m━━━━━━━━━━━━━━━━━━━━\u001b[0m\u001b[37m\u001b[0m \u001b[1m0s\u001b[0m 2ms/step - accuracy: 0.7931 - loss: 0.5580 - val_accuracy: 0.7972 - val_loss: 0.5457\n",
      "Epoch 3/7\n",
      "\u001b[1m57/57\u001b[0m \u001b[32m━━━━━━━━━━━━━━━━━━━━\u001b[0m\u001b[37m\u001b[0m \u001b[1m0s\u001b[0m 2ms/step - accuracy: 0.8139 - loss: 0.5100 - val_accuracy: 0.7972 - val_loss: 0.5241\n",
      "Epoch 4/7\n",
      "\u001b[1m57/57\u001b[0m \u001b[32m━━━━━━━━━━━━━━━━━━━━\u001b[0m\u001b[37m\u001b[0m \u001b[1m0s\u001b[0m 2ms/step - accuracy: 0.8128 - loss: 0.4964 - val_accuracy: 0.7972 - val_loss: 0.5164\n",
      "Epoch 5/7\n",
      "\u001b[1m57/57\u001b[0m \u001b[32m━━━━━━━━━━━━━━━━━━━━\u001b[0m\u001b[37m\u001b[0m \u001b[1m0s\u001b[0m 2ms/step - accuracy: 0.8353 - loss: 0.4624 - val_accuracy: 0.7832 - val_loss: 0.5084\n",
      "Epoch 6/7\n",
      "\u001b[1m57/57\u001b[0m \u001b[32m━━━━━━━━━━━━━━━━━━━━\u001b[0m\u001b[37m\u001b[0m \u001b[1m0s\u001b[0m 2ms/step - accuracy: 0.8328 - loss: 0.4561 - val_accuracy: 0.7832 - val_loss: 0.5077\n",
      "Epoch 7/7\n",
      "\u001b[1m57/57\u001b[0m \u001b[32m━━━━━━━━━━━━━━━━━━━━\u001b[0m\u001b[37m\u001b[0m \u001b[1m0s\u001b[0m 2ms/step - accuracy: 0.8016 - loss: 0.4676 - val_accuracy: 0.8112 - val_loss: 0.4841\n",
      "\u001b[1m6/6\u001b[0m \u001b[32m━━━━━━━━━━━━━━━━━━━━\u001b[0m\u001b[37m\u001b[0m \u001b[1m0s\u001b[0m 2ms/step - accuracy: 0.8162 - loss: 0.5559 \n",
      "Epoch 1/7\n",
      "\u001b[1m57/57\u001b[0m \u001b[32m━━━━━━━━━━━━━━━━━━━━\u001b[0m\u001b[37m\u001b[0m \u001b[1m2s\u001b[0m 5ms/step - accuracy: 0.6630 - loss: 0.5978 - val_accuracy: 0.7483 - val_loss: 0.4843\n",
      "Epoch 2/7\n",
      "\u001b[1m57/57\u001b[0m \u001b[32m━━━━━━━━━━━━━━━━━━━━\u001b[0m\u001b[37m\u001b[0m \u001b[1m0s\u001b[0m 2ms/step - accuracy: 0.8050 - loss: 0.4608 - val_accuracy: 0.7902 - val_loss: 0.4739\n",
      "Epoch 3/7\n",
      "\u001b[1m57/57\u001b[0m \u001b[32m━━━━━━━━━━━━━━━━━━━━\u001b[0m\u001b[37m\u001b[0m \u001b[1m0s\u001b[0m 2ms/step - accuracy: 0.7821 - loss: 0.4481 - val_accuracy: 0.7832 - val_loss: 0.4744\n",
      "Epoch 4/7\n",
      "\u001b[1m57/57\u001b[0m \u001b[32m━━━━━━━━━━━━━━━━━━━━\u001b[0m\u001b[37m\u001b[0m \u001b[1m0s\u001b[0m 2ms/step - accuracy: 0.8185 - loss: 0.4262 - val_accuracy: 0.8112 - val_loss: 0.4643\n",
      "Epoch 5/7\n",
      "\u001b[1m57/57\u001b[0m \u001b[32m━━━━━━━━━━━━━━━━━━━━\u001b[0m\u001b[37m\u001b[0m \u001b[1m0s\u001b[0m 2ms/step - accuracy: 0.8191 - loss: 0.3736 - val_accuracy: 0.7972 - val_loss: 0.5124\n",
      "Epoch 6/7\n",
      "\u001b[1m57/57\u001b[0m \u001b[32m━━━━━━━━━━━━━━━━━━━━\u001b[0m\u001b[37m\u001b[0m \u001b[1m0s\u001b[0m 2ms/step - accuracy: 0.8079 - loss: 0.3926 - val_accuracy: 0.8182 - val_loss: 0.4656\n",
      "Epoch 7/7\n",
      "\u001b[1m57/57\u001b[0m \u001b[32m━━━━━━━━━━━━━━━━━━━━\u001b[0m\u001b[37m\u001b[0m \u001b[1m0s\u001b[0m 2ms/step - accuracy: 0.8237 - loss: 0.3808 - val_accuracy: 0.8042 - val_loss: 0.4526\n",
      "\u001b[1m6/6\u001b[0m \u001b[32m━━━━━━━━━━━━━━━━━━━━\u001b[0m\u001b[37m\u001b[0m \u001b[1m0s\u001b[0m 2ms/step - accuracy: 0.8257 - loss: 0.4627 \n",
      "Epoch 1/7\n",
      "\u001b[1m57/57\u001b[0m \u001b[32m━━━━━━━━━━━━━━━━━━━━\u001b[0m\u001b[37m\u001b[0m \u001b[1m2s\u001b[0m 5ms/step - accuracy: 0.7319 - loss: 0.5698 - val_accuracy: 0.7832 - val_loss: 0.4908\n",
      "Epoch 2/7\n",
      "\u001b[1m57/57\u001b[0m \u001b[32m━━━━━━━━━━━━━━━━━━━━\u001b[0m\u001b[37m\u001b[0m \u001b[1m0s\u001b[0m 2ms/step - accuracy: 0.8149 - loss: 0.4316 - val_accuracy: 0.7692 - val_loss: 0.5120\n",
      "Epoch 3/7\n",
      "\u001b[1m57/57\u001b[0m \u001b[32m━━━━━━━━━━━━━━━━━━━━\u001b[0m\u001b[37m\u001b[0m \u001b[1m0s\u001b[0m 2ms/step - accuracy: 0.7949 - loss: 0.4151 - val_accuracy: 0.7972 - val_loss: 0.4716\n",
      "Epoch 4/7\n",
      "\u001b[1m57/57\u001b[0m \u001b[32m━━━━━━━━━━━━━━━━━━━━\u001b[0m\u001b[37m\u001b[0m \u001b[1m0s\u001b[0m 2ms/step - accuracy: 0.7876 - loss: 0.4382 - val_accuracy: 0.7972 - val_loss: 0.4896\n",
      "Epoch 5/7\n",
      "\u001b[1m57/57\u001b[0m \u001b[32m━━━━━━━━━━━━━━━━━━━━\u001b[0m\u001b[37m\u001b[0m \u001b[1m0s\u001b[0m 2ms/step - accuracy: 0.8124 - loss: 0.4025 - val_accuracy: 0.7762 - val_loss: 0.5025\n",
      "Epoch 6/7\n",
      "\u001b[1m57/57\u001b[0m \u001b[32m━━━━━━━━━━━━━━━━━━━━\u001b[0m\u001b[37m\u001b[0m \u001b[1m0s\u001b[0m 2ms/step - accuracy: 0.8055 - loss: 0.4389 - val_accuracy: 0.8042 - val_loss: 0.4820\n",
      "Epoch 7/7\n",
      "\u001b[1m57/57\u001b[0m \u001b[32m━━━━━━━━━━━━━━━━━━━━\u001b[0m\u001b[37m\u001b[0m \u001b[1m0s\u001b[0m 2ms/step - accuracy: 0.8217 - loss: 0.3745 - val_accuracy: 0.8042 - val_loss: 0.4785\n",
      "\u001b[1m6/6\u001b[0m \u001b[32m━━━━━━━━━━━━━━━━━━━━\u001b[0m\u001b[37m\u001b[0m \u001b[1m0s\u001b[0m 2ms/step - accuracy: 0.8216 - loss: 0.4779 \n",
      "Epoch 1/7\n",
      "\u001b[1m57/57\u001b[0m \u001b[32m━━━━━━━━━━━━━━━━━━━━\u001b[0m\u001b[37m\u001b[0m \u001b[1m2s\u001b[0m 5ms/step - accuracy: 0.7423 - loss: 0.5717 - val_accuracy: 0.7832 - val_loss: 0.4952\n",
      "Epoch 2/7\n",
      "\u001b[1m57/57\u001b[0m \u001b[32m━━━━━━━━━━━━━━━━━━━━\u001b[0m\u001b[37m\u001b[0m \u001b[1m0s\u001b[0m 2ms/step - accuracy: 0.7856 - loss: 0.4422 - val_accuracy: 0.8182 - val_loss: 0.4730\n",
      "Epoch 3/7\n",
      "\u001b[1m57/57\u001b[0m \u001b[32m━━━━━━━━━━━━━━━━━━━━\u001b[0m\u001b[37m\u001b[0m \u001b[1m0s\u001b[0m 2ms/step - accuracy: 0.8183 - loss: 0.4269 - val_accuracy: 0.7972 - val_loss: 0.4759\n",
      "Epoch 4/7\n",
      "\u001b[1m57/57\u001b[0m \u001b[32m━━━━━━━━━━━━━━━━━━━━\u001b[0m\u001b[37m\u001b[0m \u001b[1m0s\u001b[0m 2ms/step - accuracy: 0.7945 - loss: 0.3992 - val_accuracy: 0.8182 - val_loss: 0.4570\n",
      "Epoch 5/7\n",
      "\u001b[1m57/57\u001b[0m \u001b[32m━━━━━━━━━━━━━━━━━━━━\u001b[0m\u001b[37m\u001b[0m \u001b[1m0s\u001b[0m 2ms/step - accuracy: 0.7911 - loss: 0.4171 - val_accuracy: 0.8392 - val_loss: 0.4665\n",
      "Epoch 6/7\n",
      "\u001b[1m57/57\u001b[0m \u001b[32m━━━━━━━━━━━━━━━━━━━━\u001b[0m\u001b[37m\u001b[0m \u001b[1m0s\u001b[0m 2ms/step - accuracy: 0.7979 - loss: 0.3898 - val_accuracy: 0.8182 - val_loss: 0.4806\n",
      "Epoch 7/7\n",
      "\u001b[1m57/57\u001b[0m \u001b[32m━━━━━━━━━━━━━━━━━━━━\u001b[0m\u001b[37m\u001b[0m \u001b[1m0s\u001b[0m 2ms/step - accuracy: 0.7992 - loss: 0.4261 - val_accuracy: 0.8252 - val_loss: 0.4697\n",
      "\u001b[1m6/6\u001b[0m \u001b[32m━━━━━━━━━━━━━━━━━━━━\u001b[0m\u001b[37m\u001b[0m \u001b[1m0s\u001b[0m 2ms/step - accuracy: 0.8306 - loss: 0.4719 \n",
      "Epoch 1/7\n",
      "\u001b[1m57/57\u001b[0m \u001b[32m━━━━━━━━━━━━━━━━━━━━\u001b[0m\u001b[37m\u001b[0m \u001b[1m2s\u001b[0m 5ms/step - accuracy: 0.6352 - loss: 0.6057 - val_accuracy: 0.7063 - val_loss: 0.5356\n",
      "Epoch 2/7\n",
      "\u001b[1m57/57\u001b[0m \u001b[32m━━━━━━━━━━━━━━━━━━━━\u001b[0m\u001b[37m\u001b[0m \u001b[1m0s\u001b[0m 2ms/step - accuracy: 0.7805 - loss: 0.4521 - val_accuracy: 0.7692 - val_loss: 0.4660\n",
      "Epoch 3/7\n",
      "\u001b[1m57/57\u001b[0m \u001b[32m━━━━━━━━━━━━━━━━━━━━\u001b[0m\u001b[37m\u001b[0m \u001b[1m0s\u001b[0m 2ms/step - accuracy: 0.8364 - loss: 0.3973 - val_accuracy: 0.7972 - val_loss: 0.4634\n",
      "Epoch 4/7\n",
      "\u001b[1m57/57\u001b[0m \u001b[32m━━━━━━━━━━━━━━━━━━━━\u001b[0m\u001b[37m\u001b[0m \u001b[1m0s\u001b[0m 2ms/step - accuracy: 0.8086 - loss: 0.4126 - val_accuracy: 0.7832 - val_loss: 0.4774\n",
      "Epoch 5/7\n",
      "\u001b[1m57/57\u001b[0m \u001b[32m━━━━━━━━━━━━━━━━━━━━\u001b[0m\u001b[37m\u001b[0m \u001b[1m0s\u001b[0m 2ms/step - accuracy: 0.8333 - loss: 0.3910 - val_accuracy: 0.7203 - val_loss: 0.4808\n",
      "Epoch 6/7\n",
      "\u001b[1m57/57\u001b[0m \u001b[32m━━━━━━━━━━━━━━━━━━━━\u001b[0m\u001b[37m\u001b[0m \u001b[1m0s\u001b[0m 2ms/step - accuracy: 0.8198 - loss: 0.4064 - val_accuracy: 0.7413 - val_loss: 0.4932\n",
      "Epoch 7/7\n",
      "\u001b[1m57/57\u001b[0m \u001b[32m━━━━━━━━━━━━━━━━━━━━\u001b[0m\u001b[37m\u001b[0m \u001b[1m0s\u001b[0m 2ms/step - accuracy: 0.8000 - loss: 0.4096 - val_accuracy: 0.7832 - val_loss: 0.4836\n",
      "\u001b[1m6/6\u001b[0m \u001b[32m━━━━━━━━━━━━━━━━━━━━\u001b[0m\u001b[37m\u001b[0m \u001b[1m0s\u001b[0m 2ms/step - accuracy: 0.8184 - loss: 0.4613 \n",
      "Epoch 1/7\n",
      "\u001b[1m57/57\u001b[0m \u001b[32m━━━━━━━━━━━━━━━━━━━━\u001b[0m\u001b[37m\u001b[0m \u001b[1m2s\u001b[0m 5ms/step - accuracy: 0.6840 - loss: 0.6069 - val_accuracy: 0.7273 - val_loss: 0.5866\n",
      "Epoch 2/7\n",
      "\u001b[1m57/57\u001b[0m \u001b[32m━━━━━━━━━━━━━━━━━━━━\u001b[0m\u001b[37m\u001b[0m \u001b[1m0s\u001b[0m 2ms/step - accuracy: 0.7589 - loss: 0.5339 - val_accuracy: 0.6783 - val_loss: 0.5709\n",
      "Epoch 3/7\n",
      "\u001b[1m57/57\u001b[0m \u001b[32m━━━━━━━━━━━━━━━━━━━━\u001b[0m\u001b[37m\u001b[0m \u001b[1m0s\u001b[0m 2ms/step - accuracy: 0.7310 - loss: 0.4919 - val_accuracy: 0.6434 - val_loss: 0.5374\n",
      "Epoch 4/7\n",
      "\u001b[1m57/57\u001b[0m \u001b[32m━━━━━━━━━━━━━━━━━━━━\u001b[0m\u001b[37m\u001b[0m \u001b[1m0s\u001b[0m 2ms/step - accuracy: 0.7529 - loss: 0.4434 - val_accuracy: 0.7762 - val_loss: 0.5286\n",
      "Epoch 5/7\n",
      "\u001b[1m57/57\u001b[0m \u001b[32m━━━━━━━━━━━━━━━━━━━━\u001b[0m\u001b[37m\u001b[0m \u001b[1m0s\u001b[0m 2ms/step - accuracy: 0.7747 - loss: 0.4521 - val_accuracy: 0.7972 - val_loss: 0.5017\n",
      "Epoch 6/7\n",
      "\u001b[1m57/57\u001b[0m \u001b[32m━━━━━━━━━━━━━━━━━━━━\u001b[0m\u001b[37m\u001b[0m \u001b[1m0s\u001b[0m 2ms/step - accuracy: 0.8154 - loss: 0.4313 - val_accuracy: 0.8042 - val_loss: 0.5208\n",
      "Epoch 7/7\n",
      "\u001b[1m57/57\u001b[0m \u001b[32m━━━━━━━━━━━━━━━━━━━━\u001b[0m\u001b[37m\u001b[0m \u001b[1m0s\u001b[0m 2ms/step - accuracy: 0.7737 - loss: 0.4364 - val_accuracy: 0.7902 - val_loss: 0.5223\n",
      "\u001b[1m6/6\u001b[0m \u001b[32m━━━━━━━━━━━━━━━━━━━━\u001b[0m\u001b[37m\u001b[0m \u001b[1m0s\u001b[0m 2ms/step - accuracy: 0.8074 - loss: 0.4911 \n",
      "Epoch 1/7\n",
      "\u001b[1m57/57\u001b[0m \u001b[32m━━━━━━━━━━━━━━━━━━━━\u001b[0m\u001b[37m\u001b[0m \u001b[1m2s\u001b[0m 5ms/step - accuracy: 0.7256 - loss: 0.6266 - val_accuracy: 0.7762 - val_loss: 0.4780\n",
      "Epoch 2/7\n",
      "\u001b[1m57/57\u001b[0m \u001b[32m━━━━━━━━━━━━━━━━━━━━\u001b[0m\u001b[37m\u001b[0m \u001b[1m0s\u001b[0m 2ms/step - accuracy: 0.7858 - loss: 0.4563 - val_accuracy: 0.8112 - val_loss: 0.4805\n",
      "Epoch 3/7\n",
      "\u001b[1m57/57\u001b[0m \u001b[32m━━━━━━━━━━━━━━━━━━━━\u001b[0m\u001b[37m\u001b[0m \u001b[1m0s\u001b[0m 2ms/step - accuracy: 0.8284 - loss: 0.4166 - val_accuracy: 0.7902 - val_loss: 0.4838\n",
      "Epoch 4/7\n",
      "\u001b[1m57/57\u001b[0m \u001b[32m━━━━━━━━━━━━━━━━━━━━\u001b[0m\u001b[37m\u001b[0m \u001b[1m0s\u001b[0m 2ms/step - accuracy: 0.8290 - loss: 0.4001 - val_accuracy: 0.7762 - val_loss: 0.5039\n",
      "Epoch 5/7\n",
      "\u001b[1m57/57\u001b[0m \u001b[32m━━━━━━━━━━━━━━━━━━━━\u001b[0m\u001b[37m\u001b[0m \u001b[1m0s\u001b[0m 2ms/step - accuracy: 0.7820 - loss: 0.4444 - val_accuracy: 0.7552 - val_loss: 0.5114\n",
      "Epoch 6/7\n",
      "\u001b[1m57/57\u001b[0m \u001b[32m━━━━━━━━━━━━━━━━━━━━\u001b[0m\u001b[37m\u001b[0m \u001b[1m0s\u001b[0m 2ms/step - accuracy: 0.8162 - loss: 0.4087 - val_accuracy: 0.7972 - val_loss: 0.4960\n",
      "Epoch 7/7\n",
      "\u001b[1m57/57\u001b[0m \u001b[32m━━━━━━━━━━━━━━━━━━━━\u001b[0m\u001b[37m\u001b[0m \u001b[1m0s\u001b[0m 2ms/step - accuracy: 0.8264 - loss: 0.3940 - val_accuracy: 0.7692 - val_loss: 0.5053\n",
      "\u001b[1m6/6\u001b[0m \u001b[32m━━━━━━━━━━━━━━━━━━━━\u001b[0m\u001b[37m\u001b[0m \u001b[1m0s\u001b[0m 2ms/step - accuracy: 0.7816 - loss: 0.4319 \n",
      "Epoch 1/7\n",
      "\u001b[1m57/57\u001b[0m \u001b[32m━━━━━━━━━━━━━━━━━━━━\u001b[0m\u001b[37m\u001b[0m \u001b[1m2s\u001b[0m 5ms/step - accuracy: 0.6777 - loss: 0.6986 - val_accuracy: 0.7552 - val_loss: 0.5969\n",
      "Epoch 2/7\n",
      "\u001b[1m57/57\u001b[0m \u001b[32m━━━━━━━━━━━━━━━━━━━━\u001b[0m\u001b[37m\u001b[0m \u001b[1m0s\u001b[0m 2ms/step - accuracy: 0.8027 - loss: 0.5249 - val_accuracy: 0.7832 - val_loss: 0.5025\n",
      "Epoch 3/7\n",
      "\u001b[1m57/57\u001b[0m \u001b[32m━━━━━━━━━━━━━━━━━━━━\u001b[0m\u001b[37m\u001b[0m \u001b[1m0s\u001b[0m 2ms/step - accuracy: 0.8074 - loss: 0.4977 - val_accuracy: 0.7972 - val_loss: 0.4900\n",
      "Epoch 4/7\n",
      "\u001b[1m57/57\u001b[0m \u001b[32m━━━━━━━━━━━━━━━━━━━━\u001b[0m\u001b[37m\u001b[0m \u001b[1m0s\u001b[0m 2ms/step - accuracy: 0.8120 - loss: 0.4801 - val_accuracy: 0.7972 - val_loss: 0.4776\n",
      "Epoch 5/7\n",
      "\u001b[1m57/57\u001b[0m \u001b[32m━━━━━━━━━━━━━━━━━━━━\u001b[0m\u001b[37m\u001b[0m \u001b[1m0s\u001b[0m 2ms/step - accuracy: 0.8223 - loss: 0.4443 - val_accuracy: 0.7972 - val_loss: 0.4656\n",
      "Epoch 6/7\n",
      "\u001b[1m57/57\u001b[0m \u001b[32m━━━━━━━━━━━━━━━━━━━━\u001b[0m\u001b[37m\u001b[0m \u001b[1m0s\u001b[0m 2ms/step - accuracy: 0.8114 - loss: 0.4482 - val_accuracy: 0.8392 - val_loss: 0.4442\n",
      "Epoch 7/7\n",
      "\u001b[1m57/57\u001b[0m \u001b[32m━━━━━━━━━━━━━━━━━━━━\u001b[0m\u001b[37m\u001b[0m \u001b[1m0s\u001b[0m 2ms/step - accuracy: 0.8186 - loss: 0.4199 - val_accuracy: 0.8462 - val_loss: 0.4248\n",
      "\u001b[1m6/6\u001b[0m \u001b[32m━━━━━━━━━━━━━━━━━━━━\u001b[0m\u001b[37m\u001b[0m \u001b[1m0s\u001b[0m 2ms/step - accuracy: 0.8236 - loss: 0.4504 \n",
      "Epoch 1/7\n",
      "\u001b[1m57/57\u001b[0m \u001b[32m━━━━━━━━━━━━━━━━━━━━\u001b[0m\u001b[37m\u001b[0m \u001b[1m2s\u001b[0m 5ms/step - accuracy: 0.7556 - loss: 0.5796 - val_accuracy: 0.7832 - val_loss: 0.4945\n",
      "Epoch 2/7\n",
      "\u001b[1m57/57\u001b[0m \u001b[32m━━━━━━━━━━━━━━━━━━━━\u001b[0m\u001b[37m\u001b[0m \u001b[1m0s\u001b[0m 2ms/step - accuracy: 0.8094 - loss: 0.4182 - val_accuracy: 0.7622 - val_loss: 0.4938\n",
      "Epoch 3/7\n",
      "\u001b[1m57/57\u001b[0m \u001b[32m━━━━━━━━━━━━━━━━━━━━\u001b[0m\u001b[37m\u001b[0m \u001b[1m0s\u001b[0m 2ms/step - accuracy: 0.8289 - loss: 0.4104 - val_accuracy: 0.8042 - val_loss: 0.4643\n",
      "Epoch 4/7\n",
      "\u001b[1m57/57\u001b[0m \u001b[32m━━━━━━━━━━━━━━━━━━━━\u001b[0m\u001b[37m\u001b[0m \u001b[1m0s\u001b[0m 2ms/step - accuracy: 0.8178 - loss: 0.4228 - val_accuracy: 0.8112 - val_loss: 0.4694\n",
      "Epoch 5/7\n",
      "\u001b[1m57/57\u001b[0m \u001b[32m━━━━━━━━━━━━━━━━━━━━\u001b[0m\u001b[37m\u001b[0m \u001b[1m0s\u001b[0m 2ms/step - accuracy: 0.8161 - loss: 0.4116 - val_accuracy: 0.7762 - val_loss: 0.5052\n",
      "Epoch 6/7\n",
      "\u001b[1m57/57\u001b[0m \u001b[32m━━━━━━━━━━━━━━━━━━━━\u001b[0m\u001b[37m\u001b[0m \u001b[1m0s\u001b[0m 2ms/step - accuracy: 0.7921 - loss: 0.4363 - val_accuracy: 0.8042 - val_loss: 0.4739\n",
      "Epoch 7/7\n",
      "\u001b[1m57/57\u001b[0m \u001b[32m━━━━━━━━━━━━━━━━━━━━\u001b[0m\u001b[37m\u001b[0m \u001b[1m0s\u001b[0m 2ms/step - accuracy: 0.7732 - loss: 0.4317 - val_accuracy: 0.8182 - val_loss: 0.4605\n",
      "\u001b[1m6/6\u001b[0m \u001b[32m━━━━━━━━━━━━━━━━━━━━\u001b[0m\u001b[37m\u001b[0m \u001b[1m0s\u001b[0m 2ms/step - accuracy: 0.8335 - loss: 0.4473 \n",
      "0.010899999999999998 0.8089887499809265\n"
     ]
    }
   ],
   "source": [
    "from sklearn.model_selection import train_test_split \n",
    "from sklearn.datasets import make_classification \n",
    "from sklearn.preprocessing import StandardScaler \n",
    "from keras.models import Sequential \n",
    "from keras.layers import Dense,Dropout\n",
    "import keras\n",
    "X_train, X_test, y_train, y_test = train_test_split(poly_featers, y, test_size=0.2, random_state=42)\n",
    "\n",
    "scaler = StandardScaler() \n",
    "X_train = scaler.fit_transform(X_train) \n",
    "X_test = scaler.transform(X_test)\n",
    "rate = 0.0001\n",
    "best_rate = 0\n",
    "max_acc = -1\n",
    "while rate< 0.01:\n",
    "    model = Sequential() \n",
    "    model.add(Dense(16,activation = 'relu',input_shape = (X_train.shape[1],))) \n",
    "\n",
    "    model.add(Dense(8,activation= 'relu')) \n",
    "\n",
    "    model.add(Dense(4,activation= 'relu')) \n",
    "\n",
    "    #model.add(Dense(4,activation= 'relu'))\n",
    "    #model.add(Dense(2,activation= 'relu'))\n",
    "    model.add(Dense(1,activation = 'sigmoid'))\n",
    "    opt = keras.optimizers.Adam(learning_rate=rate)\n",
    "    model.compile(optimizer = opt,loss = 'binary_crossentropy',metrics = ['accuracy'])\n",
    "\n",
    "    model.fit(X_train,y_train,epochs = 7,batch_size = 10,validation_split= 0.2) \n",
    "    loss,accuracy= model.evaluate(X_test,y_test) \n",
    "    if accuracy > max_acc:\n",
    "        max_acc = accuracy\n",
    "        best_rate = rate\n",
    "    rate += 0.0009    \n",
    "\n",
    "print(rate,max_acc)\n"
   ]
  },
  {
   "cell_type": "code",
   "execution_count": 22,
   "id": "26f24fc3",
   "metadata": {
    "execution": {
     "iopub.execute_input": "2024-10-26T11:13:56.253460Z",
     "iopub.status.busy": "2024-10-26T11:13:56.252434Z",
     "iopub.status.idle": "2024-10-26T11:13:58.982097Z",
     "shell.execute_reply": "2024-10-26T11:13:58.980878Z"
    },
    "papermill": {
     "duration": 2.768064,
     "end_time": "2024-10-26T11:13:58.984246",
     "exception": false,
     "start_time": "2024-10-26T11:13:56.216182",
     "status": "completed"
    },
    "tags": []
   },
   "outputs": [
    {
     "name": "stdout",
     "output_type": "stream",
     "text": [
      "Epoch 1/7\n"
     ]
    },
    {
     "name": "stderr",
     "output_type": "stream",
     "text": [
      "/opt/conda/lib/python3.10/site-packages/keras/src/layers/core/dense.py:87: UserWarning: Do not pass an `input_shape`/`input_dim` argument to a layer. When using Sequential models, prefer using an `Input(shape)` object as the first layer in the model instead.\n",
      "  super().__init__(activity_regularizer=activity_regularizer, **kwargs)\n"
     ]
    },
    {
     "name": "stdout",
     "output_type": "stream",
     "text": [
      "\u001b[1m61/61\u001b[0m \u001b[32m━━━━━━━━━━━━━━━━━━━━\u001b[0m\u001b[37m\u001b[0m \u001b[1m2s\u001b[0m 5ms/step - accuracy: 0.7208 - loss: 0.5693 - val_accuracy: 0.7881 - val_loss: 0.4669\n",
      "Epoch 2/7\n",
      "\u001b[1m61/61\u001b[0m \u001b[32m━━━━━━━━━━━━━━━━━━━━\u001b[0m\u001b[37m\u001b[0m \u001b[1m0s\u001b[0m 2ms/step - accuracy: 0.7913 - loss: 0.4833 - val_accuracy: 0.7682 - val_loss: 0.5024\n",
      "Epoch 3/7\n",
      "\u001b[1m61/61\u001b[0m \u001b[32m━━━━━━━━━━━━━━━━━━━━\u001b[0m\u001b[37m\u001b[0m \u001b[1m0s\u001b[0m 2ms/step - accuracy: 0.7737 - loss: 0.4481 - val_accuracy: 0.7947 - val_loss: 0.4665\n",
      "Epoch 4/7\n",
      "\u001b[1m61/61\u001b[0m \u001b[32m━━━━━━━━━━━━━━━━━━━━\u001b[0m\u001b[37m\u001b[0m \u001b[1m0s\u001b[0m 2ms/step - accuracy: 0.7980 - loss: 0.4504 - val_accuracy: 0.8146 - val_loss: 0.4747\n",
      "Epoch 5/7\n",
      "\u001b[1m61/61\u001b[0m \u001b[32m━━━━━━━━━━━━━━━━━━━━\u001b[0m\u001b[37m\u001b[0m \u001b[1m0s\u001b[0m 2ms/step - accuracy: 0.7965 - loss: 0.4271 - val_accuracy: 0.8146 - val_loss: 0.4628\n",
      "Epoch 6/7\n",
      "\u001b[1m61/61\u001b[0m \u001b[32m━━━━━━━━━━━━━━━━━━━━\u001b[0m\u001b[37m\u001b[0m \u001b[1m0s\u001b[0m 2ms/step - accuracy: 0.7999 - loss: 0.4542 - val_accuracy: 0.8278 - val_loss: 0.4668\n",
      "Epoch 7/7\n",
      "\u001b[1m61/61\u001b[0m \u001b[32m━━━━━━━━━━━━━━━━━━━━\u001b[0m\u001b[37m\u001b[0m \u001b[1m0s\u001b[0m 2ms/step - accuracy: 0.8148 - loss: 0.4197 - val_accuracy: 0.8212 - val_loss: 0.4516\n",
      "\u001b[1m5/5\u001b[0m \u001b[32m━━━━━━━━━━━━━━━━━━━━\u001b[0m\u001b[37m\u001b[0m \u001b[1m0s\u001b[0m 2ms/step - accuracy: 0.8354 - loss: 0.4060 \n",
      "0.8134328126907349\n"
     ]
    }
   ],
   "source": [
    "from sklearn.model_selection import train_test_split \n",
    "from sklearn.datasets import make_classification \n",
    "from sklearn.preprocessing import StandardScaler \n",
    "from keras.models import Sequential \n",
    "from keras.layers import Dense,Dropout\n",
    "import keras\n",
    "X_train, X_test, y_train, y_test = train_test_split(poly_featers, y, test_size=0.15, random_state=42)\n",
    "\n",
    "scaler = StandardScaler() \n",
    "X_train = scaler.fit_transform(X_train) \n",
    "X_test = scaler.transform(X_test)\n",
    "\n",
    "best_rate = 0\n",
    "max_acc = -1\n",
    "\n",
    "model = Sequential() \n",
    "model.add(Dense(16,activation = 'relu',input_shape = (X_train.shape[1],))) \n",
    "\n",
    "model.add(Dense(8,activation= 'relu')) \n",
    "\n",
    "#model.add(Dense(8,activation= 'relu')) \n",
    "\n",
    "model.add(Dense(4,activation= 'relu'))\n",
    "#model.add(Dense(2,activation= 'relu'))\n",
    "model.add(Dense(1,activation = 'sigmoid'))\n",
    "opt = keras.optimizers.Adam(learning_rate=0.011)\n",
    "model.compile(optimizer = opt,loss = 'binary_crossentropy',metrics = ['accuracy'])\n",
    "\n",
    "model.fit(X_train,y_train,epochs = 7,batch_size = 10,validation_split= 0.2) \n",
    "loss,accuracy= model.evaluate(X_test,y_test) \n",
    "print(accuracy)"
   ]
  },
  {
   "cell_type": "code",
   "execution_count": 23,
   "id": "ac8a5e1a",
   "metadata": {
    "execution": {
     "iopub.execute_input": "2024-10-26T11:13:59.060117Z",
     "iopub.status.busy": "2024-10-26T11:13:59.059186Z",
     "iopub.status.idle": "2024-10-26T11:13:59.213793Z",
     "shell.execute_reply": "2024-10-26T11:13:59.212700Z"
    },
    "papermill": {
     "duration": 0.195485,
     "end_time": "2024-10-26T11:13:59.216680",
     "exception": false,
     "start_time": "2024-10-26T11:13:59.021195",
     "status": "completed"
    },
    "tags": []
   },
   "outputs": [
    {
     "name": "stdout",
     "output_type": "stream",
     "text": [
      "Accuracy: 80.90%\n"
     ]
    }
   ],
   "source": [
    "from sklearn.linear_model import LogisticRegression\n",
    "from sklearn.metrics import accuracy_score\n",
    "from sklearn.model_selection import train_test_split\n",
    "from sklearn.preprocessing import StandardScaler \n",
    "from sklearn.model_selection import cross_validate\n",
    "X_train, X_test, y_train, y_test = train_test_split(poly_featers, y, test_size=0.2, random_state=42)\n",
    "\n",
    "scaler = StandardScaler() \n",
    "X_train = scaler.fit_transform(X_train) \n",
    "X_test = scaler.transform(X_test)\n",
    "model = LogisticRegression() \n",
    "model.fit(X_train, y_train)\n",
    "\n",
    "y_pred = model.predict(X_test) \n",
    "accuracy = accuracy_score(y_test, y_pred) \n",
    "print(\"Accuracy: {:.2f}%\".format(accuracy * 100))\n"
   ]
  }
 ],
 "metadata": {
  "kaggle": {
   "accelerator": "none",
   "dataSources": [
    {
     "datasetId": 5900509,
     "sourceId": 9658449,
     "sourceType": "datasetVersion"
    }
   ],
   "dockerImageVersionId": 30786,
   "isGpuEnabled": false,
   "isInternetEnabled": false,
   "language": "python",
   "sourceType": "notebook"
  },
  "kernelspec": {
   "display_name": "Python 3",
   "language": "python",
   "name": "python3"
  },
  "language_info": {
   "codemirror_mode": {
    "name": "ipython",
    "version": 3
   },
   "file_extension": ".py",
   "mimetype": "text/x-python",
   "name": "python",
   "nbconvert_exporter": "python",
   "pygments_lexer": "ipython3",
   "version": "3.10.14"
  },
  "papermill": {
   "default_parameters": {},
   "duration": 59.465002,
   "end_time": "2024-10-26T11:14:01.746156",
   "environment_variables": {},
   "exception": null,
   "input_path": "__notebook__.ipynb",
   "output_path": "__notebook__.ipynb",
   "parameters": {},
   "start_time": "2024-10-26T11:13:02.281154",
   "version": "2.6.0"
  }
 },
 "nbformat": 4,
 "nbformat_minor": 5
}
